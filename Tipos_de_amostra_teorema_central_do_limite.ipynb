{
  "nbformat": 4,
  "nbformat_minor": 0,
  "metadata": {
    "colab": {
      "provenance": [],
      "collapsed_sections": [],
      "authorship_tag": "ABX9TyN9nZWx3EWMjJnKudnkvrNX"
    },
    "kernelspec": {
      "name": "python3",
      "display_name": "Python 3"
    },
    "language_info": {
      "name": "python"
    }
  },
  "cells": [
    {
      "cell_type": "code",
      "execution_count": null,
      "metadata": {
        "colab": {
          "base_uri": "https://localhost:8080/"
        },
        "id": "D6ozHp55u6-m",
        "outputId": "92aec87f-0013-4ec0-b8de-d0dbf511e631"
      },
      "outputs": [
        {
          "output_type": "stream",
          "name": "stdout",
          "text": [
            "media  149.44384540188568\n",
            "desvio padrão  15.00120967628229\n",
            "valor minimo  115.14470749592897\n",
            "valor maximo  185.0152237541752\n"
          ]
        }
      ],
      "source": [
        "import numpy as np \n",
        "import scipy.stats as ss\n",
        "\n",
        "#gerando uma amostra normal de tamanho 100 com valor medio 100 e desvio padrão de 15\n",
        "amostra_normal = ss.norm.rvs(loc = 150, scale = 15, size = 100)\n",
        "\n",
        "print('media ',amostra_normal.mean())\n",
        "print('desvio padrão ',amostra_normal.std()) #desvio padrão\n",
        "print('valor minimo ',amostra_normal.min())\n",
        "print('valor maximo ',amostra_normal.max())\n"
      ]
    },
    {
      "cell_type": "code",
      "source": [
        "amostra_normal1 = ss.norm.rvs(loc = 100, scale = 15, size = 100)\n",
        "amostra_normal2 = ss.norm.rvs(loc = 150, scale = 15, size = 100)\n",
        "amostra_normal3 = ss.norm.rvs(loc = 200, scale = 15, size = 100)\n",
        "\n",
        "#quando se soma duas amostra e chamar a media e como se tivessemos somando as duas medias \n",
        "amostra_normal = (amostra_normal1+amostra_normal2+amostra_normal3)/3\n",
        "print('Media ',amostra_normal.mean())\n",
        "\n",
        "#ja quando se pede o desvio padrão e a soma das media de quanto elas variam (variação1 + variação2 / tamanho da amaostra)\n",
        "print('Desvio padrão ',amostra_normal.std())\n",
        "#calculo do desvio padrão é a raiz da (amostra normal menos a media da amostra normal) ao quadrado \n",
        "np.sqrt(np.mean((amostra_normal - amostra_normal.mean())**2))"
      ],
      "metadata": {
        "colab": {
          "base_uri": "https://localhost:8080/"
        },
        "id": "ktWU_tBW4pAl",
        "outputId": "b4982a63-a581-4608-e234-ae0a9144f824"
      },
      "execution_count": null,
      "outputs": [
        {
          "output_type": "stream",
          "name": "stdout",
          "text": [
            "Media  149.9276043824058\n",
            "Desvio padrão  8.335131823046327\n"
          ]
        },
        {
          "output_type": "execute_result",
          "data": {
            "text/plain": [
              "8.335131823046327"
            ]
          },
          "metadata": {},
          "execution_count": 26
        }
      ]
    },
    {
      "cell_type": "code",
      "source": [
        "import matplotlib.pyplot as plt\n",
        "\n",
        "plt.hist(amostra_normal,edgecolor = 'white', alpha= 0.70)\n",
        "plt.hist(amostra_normal1,edgecolor = 'white', color= 'red', alpha = 0.22)\n",
        "plt.hist(amostra_normal2,edgecolor = 'white', color= 'green', alpha = 0.22)\n",
        "plt.hist(amostra_normal3,edgecolor = 'white', color= 'purple', alpha = 0.22)\n",
        "plt.show()\n",
        "\n",
        "# a soma das amostras tem uma distribuição mais justa \n",
        "# a distribuição das medias nos ajuda a calcular o nosso intervalo de confiança."
      ],
      "metadata": {
        "colab": {
          "base_uri": "https://localhost:8080/",
          "height": 265
        },
        "id": "pANMx7TU1uFC",
        "outputId": "9aec2e64-dd39-4bd6-9ccb-53676184f4c5"
      },
      "execution_count": null,
      "outputs": [
        {
          "output_type": "display_data",
          "data": {
            "text/plain": [
              "<Figure size 432x288 with 1 Axes>"
            ],
            "image/png": "[encoded data removed]"
          },
          "metadata": {
            "needs_background": "light"
          }
        }
      ]
    },
    {
      "cell_type": "code",
      "source": [],
      "metadata": {
        "id": "FCjOcani27c2"
      },
      "execution_count": null,
      "outputs": []
    },
    {
      "cell_type": "markdown",
      "source": [
        "# Teorema Central do Limite\n",
        "O Teorema Central do Limite (TCL) é um dos teoremas mais importante dentro da Estatística e Probabilidade. É um teorema limite que foi considerado como “Central” pelo matemático húngaro George Pólya.\n",
        "\n",
        "Brevemente, o Teorema Central do Limite estabelece que a distribuição da soma (ou média) de um grande número de variáveis aleatórias independentes e identicamente distribuídas (i.i.d.) será aproximadamente normal, independentemente da distribuição subjacente (dessas variáveis).\n",
        "\n",
        "Esse é um dos motivos porque a distribuição normal é utilizada em tantos testes estatísticos"
      ],
      "metadata": {
        "id": "W7LOudcvXyin"
      }
    },
    {
      "cell_type": "code",
      "source": [
        "amostra1 = ss.expon.rvs(1, size = 1000)\n",
        "\n",
        "plt.hist(amostra1);"
      ],
      "metadata": {
        "colab": {
          "base_uri": "https://localhost:8080/",
          "height": 265
        },
        "id": "A8Tsdzq5X22A",
        "outputId": "d2486100-4baa-49b0-eb0b-047ad1590d5d"
      },
      "execution_count": null,
      "outputs": [
        {
          "output_type": "display_data",
          "data": {
            "text/plain": [
              "<Figure size 432x288 with 1 Axes>"
            ],
            "image/png": "[encoded data removed]"
          },
          "metadata": {
            "needs_background": "light"
          }
        }
      ]
    },
    {
      "cell_type": "code",
      "source": [
        "lista = []\n",
        "for i in 10000:\n",
        "  amostra1 = ss.expon.rvs(1, size = 2)\n",
        "  lista.append"
      ],
      "metadata": {
        "id": "6gQSC9acYL_I"
      },
      "execution_count": null,
      "outputs": []
    }
  ]
}