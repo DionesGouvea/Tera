{
  "cells": [
    {
      "cell_type": "code",
      "execution_count": 3,
      "metadata": {
        "id": "4_Z6JCnCqe53"
      },
      "outputs": [],
      "source": [
        "import pandas as pd\n",
        "import numpy as np\n",
        "import matplotlib\n",
        "import matplotlib.pyplot as plt\n",
        "import seaborn as sns\n",
        "import plotly.express as px\n",
        "\n",
        "matplotlib.style.use('seaborn')\n",
        "\n",
        "import warnings\n",
        "warnings.filterwarnings(\"ignore\")\n",
        "\n",
        "np.set_printoptions(suppress=True)"
      ]
    },
    {
      "cell_type": "markdown",
      "metadata": {
        "id": "Pju0Vy18sVS2"
      },
      "source": [
        "O conjunto de dados está disponível publicamente no Kaggle através do link: {https://www.kaggle.com/code/lauriandwu/machine-learning-heart-disease-framingham/data}. Os dados são resultados de um estudo cardiovascular realizado em moradores da cidade de Framingham, Massachusetts. O objetivo do estudo é entender quais fatores  estão associados ao paciente ter risco de desenvolver doença coronariana (DAC) nos próximos 10 anos. O conjunto de dados fornece as informações dos pacientes compostas por mais de 4.000 registros e 15 atributos. Variáveis Cada atributo é um potencial  fator de risco. Existem fatores de risco demográficos, comportamentais e médicos."
      ]
    },
    {
      "cell_type": "markdown",
      "metadata": {
        "id": "wYghh0IktYYN"
      },
      "source": [
        "\n",
        "## Atributos:\n",
        "\n",
        "### Demográficos:\n",
        "**male:** Masculino ou Feminino (M ou F)\n",
        "\n",
        "**age:** Idade (numérico)\n",
        "\n",
        "**education:** Não possui descrição clara e será desconsiderada\n",
        "\n",
        "\n",
        "## Comportamental:\n",
        "**Fumante:** Se o paciente é ou não fumante\n",
        "\n",
        "**Cigs Per Day:** Número de cigarros que o paciente fuma por dia.\n",
        "\n",
        "## Information on medical history:\n",
        "**BP Meds:** Se o paciente faz uso de medicamento para controle de pressão arterial\n",
        "\n",
        "**Prevalent Stroke:** Se o paciente já teve ou não um acidente vascular cerebral\n",
        "\n",
        "**Prevalent Hyp:** Se o paciente é ou não hipertenso\n",
        "\n",
        "**Diabetes:** se o paciente era ou não diabético\n",
        "\n",
        "\n",
        "## Condições médicas:\n",
        "**Tot Chol:** Nível de colesterol Total\n",
        "\n",
        "**Sys BP:** Pressão sanguinea sistólica\n",
        "**Dia BP:** Pressão sanguinea diastólica\n",
        "\n",
        "**BMI:** Índice de massa corporal\n",
        "\n",
        "**Heart Rate:** Frequência Cardíaca\n",
        "\n",
        "**Glucose:** Nível de Glicose\n",
        "\n",
        "## Informação alvo:\n",
        "**TenYearCHD:** Risco de doença coronária cardíaca nos próximos 10 anos."
      ]
    },
    {
      "cell_type": "markdown",
      "metadata": {
        "id": "jkDwGhBIwccr"
      },
      "source": [
        "# Objetivo:\n",
        "\n",
        "Explorar o banco de dados, identificando padrões resumindo informações de interesse."
      ]
    },
    {
      "cell_type": "code",
      "execution_count": 4,
      "metadata": {
        "colab": {
          "base_uri": "https://localhost:8080/"
        },
        "id": "_fi98BR3wbib",
        "outputId": "fcaabc0c-72f4-4e62-8125-db3d1dfbe841"
      },
      "outputs": [
        {
          "output_type": "stream",
          "name": "stdout",
          "text": [
            "O argumento .shape retorna o tamanho de linhas e colunas do banco\n",
            "O banco heart possui 4238 linhas e 16 colunas\n"
          ]
        }
      ],
      "source": [
        "#Leitura do banco de dados utilizando a biblioteca pandas\n",
        "#url= 'https://drive.google.com/file/d/1qneSOa5mv3_1jvg2CF4XxqKnwu9sCSi9/view?usp=sharing'\n",
        "#url='https://drive.google.com/uc?id=' + url.split('/')[-2]\n",
        "heart = pd.read_csv(\"/content/framingham_heart_disease.csv\")\n",
        "\n",
        "#Observando o tamanho do banco\n",
        "print(f'O argumento .shape retorna o tamanho de linhas e colunas do banco')\n",
        "print(f'O banco heart possui {heart.shape[0]} linhas e {heart.shape[1]} colunas')"
      ]
    },
    {
      "cell_type": "code",
      "execution_count": 5,
      "metadata": {
        "colab": {
          "base_uri": "https://localhost:8080/"
        },
        "id": "0bGEqFfQtXRI",
        "outputId": "dec2ff19-96cb-4628-d9f2-21f270946b59"
      },
      "outputs": [
        {
          "output_type": "stream",
          "name": "stdout",
          "text": [
            "O argumento .info() retorna informações gerais sobre cada doluna do banco\n",
            " \n",
            "<class 'pandas.core.frame.DataFrame'>\n",
            "RangeIndex: 4238 entries, 0 to 4237\n",
            "Data columns (total 16 columns):\n",
            " #   Column           Non-Null Count  Dtype  \n",
            "---  ------           --------------  -----  \n",
            " 0   male             4238 non-null   int64  \n",
            " 1   age              4238 non-null   int64  \n",
            " 2   education        4133 non-null   float64\n",
            " 3   currentSmoker    4238 non-null   int64  \n",
            " 4   cigsPerDay       4209 non-null   float64\n",
            " 5   BPMeds           4185 non-null   float64\n",
            " 6   prevalentStroke  4238 non-null   int64  \n",
            " 7   prevalentHyp     4238 non-null   int64  \n",
            " 8   diabetes         4238 non-null   int64  \n",
            " 9   totChol          4188 non-null   float64\n",
            " 10  sysBP            4238 non-null   float64\n",
            " 11  diaBP            4238 non-null   float64\n",
            " 12  BMI              4219 non-null   float64\n",
            " 13  heartRate        4237 non-null   float64\n",
            " 14  glucose          3850 non-null   float64\n",
            " 15  TenYearCHD       4238 non-null   int64  \n",
            "dtypes: float64(9), int64(7)\n",
            "memory usage: 529.9 KB\n"
          ]
        }
      ],
      "source": [
        "#Observando a estrutura do banco\n",
        "print(f'O argumento .info() retorna informações gerais sobre cada doluna do banco')\n",
        "print(' ')\n",
        "heart.info()"
      ]
    },
    {
      "cell_type": "code",
      "execution_count": 6,
      "metadata": {
        "colab": {
          "base_uri": "https://localhost:8080/",
          "height": 415
        },
        "id": "xOpHzrZxzRef",
        "outputId": "b0eeaebd-9a5f-4fe0-bee8-e55d2f6976cc",
        "scrolled": true
      },
      "outputs": [
        {
          "output_type": "stream",
          "name": "stdout",
          "text": [
            "Para facilitar a construção de gráficos e visualizações, as informações binárias foram trocadas para as strings respectivas\n",
            "Algumas funções do python tem dificuldades em processar objetos, por isso elas foram atribuidas como categóricas\n",
            "E após esse tratamento inicial, o banco fica assim:\n"
          ]
        },
        {
          "output_type": "execute_result",
          "data": {
            "text/plain": [
              "  male  age currentSmoker  cigsPerDay BPMeds prevalentStroke prevalentHyp  \\\n",
              "0    M   39           Não         0.0    Não             Não          Não   \n",
              "1    F   46           Não         0.0    Não             Não          Não   \n",
              "2    M   48           Sim        20.0    Não             Não          Não   \n",
              "3    F   61           Sim        30.0    Não             Não          Sim   \n",
              "4    F   46           Sim        23.0    Não             Não          Não   \n",
              "5    F   43           Não         0.0    Não             Não          Sim   \n",
              "6    F   63           Não         0.0    Não             Não          Não   \n",
              "7    F   45           Sim        20.0    Não             Não          Não   \n",
              "8    M   52           Não         0.0    Não             Não          Sim   \n",
              "9    M   43           Sim        30.0    Não             Não          Sim   \n",
              "\n",
              "  diabetes  totChol  sysBP  diaBP    BMI  heartRate  glucose TenYearCHD  \n",
              "0      Não    195.0  106.0   70.0  26.97       80.0     77.0        Não  \n",
              "1      Não    250.0  121.0   81.0  28.73       95.0     76.0        Não  \n",
              "2      Não    245.0  127.5   80.0  25.34       75.0     70.0        Não  \n",
              "3      Não    225.0  150.0   95.0  28.58       65.0    103.0        Sim  \n",
              "4      Não    285.0  130.0   84.0  23.10       85.0     85.0        Não  \n",
              "5      Não    228.0  180.0  110.0  30.30       77.0     99.0        Não  \n",
              "6      Não    205.0  138.0   71.0  33.11       60.0     85.0        Sim  \n",
              "7      Não    313.0  100.0   71.0  21.68       79.0     78.0        Não  \n",
              "8      Não    260.0  141.5   89.0  26.36       76.0     79.0        Não  \n",
              "9      Não    225.0  162.0  107.0  23.61       93.0     88.0        Não  "
            ],
            "text/html": [
              "\n",
              "  <div id=\"df-f0eea42c-4d64-4652-9e58-edaa71a48da6\">\n",
              "    <div class=\"colab-df-container\">\n",
              "      <div>\n",
              "<style scoped>\n",
              "    .dataframe tbody tr th:only-of-type {\n",
              "        vertical-align: middle;\n",
              "    }\n",
              "\n",
              "    .dataframe tbody tr th {\n",
              "        vertical-align: top;\n",
              "    }\n",
              "\n",
              "    .dataframe thead th {\n",
              "        text-align: right;\n",
              "    }\n",
              "</style>\n",
              "<table border=\"1\" class=\"dataframe\">\n",
              "  <thead>\n",
              "    <tr style=\"text-align: right;\">\n",
              "      <th></th>\n",
              "      <th>male</th>\n",
              "      <th>age</th>\n",
              "      <th>currentSmoker</th>\n",
              "      <th>cigsPerDay</th>\n",
              "      <th>BPMeds</th>\n",
              "      <th>prevalentStroke</th>\n",
              "      <th>prevalentHyp</th>\n",
              "      <th>diabetes</th>\n",
              "      <th>totChol</th>\n",
              "      <th>sysBP</th>\n",
              "      <th>diaBP</th>\n",
              "      <th>BMI</th>\n",
              "      <th>heartRate</th>\n",
              "      <th>glucose</th>\n",
              "      <th>TenYearCHD</th>\n",
              "    </tr>\n",
              "  </thead>\n",
              "  <tbody>\n",
              "    <tr>\n",
              "      <th>0</th>\n",
              "      <td>M</td>\n",
              "      <td>39</td>\n",
              "      <td>Não</td>\n",
              "      <td>0.0</td>\n",
              "      <td>Não</td>\n",
              "      <td>Não</td>\n",
              "      <td>Não</td>\n",
              "      <td>Não</td>\n",
              "      <td>195.0</td>\n",
              "      <td>106.0</td>\n",
              "      <td>70.0</td>\n",
              "      <td>26.97</td>\n",
              "      <td>80.0</td>\n",
              "      <td>77.0</td>\n",
              "      <td>Não</td>\n",
              "    </tr>\n",
              "    <tr>\n",
              "      <th>1</th>\n",
              "      <td>F</td>\n",
              "      <td>46</td>\n",
              "      <td>Não</td>\n",
              "      <td>0.0</td>\n",
              "      <td>Não</td>\n",
              "      <td>Não</td>\n",
              "      <td>Não</td>\n",
              "      <td>Não</td>\n",
              "      <td>250.0</td>\n",
              "      <td>121.0</td>\n",
              "      <td>81.0</td>\n",
              "      <td>28.73</td>\n",
              "      <td>95.0</td>\n",
              "      <td>76.0</td>\n",
              "      <td>Não</td>\n",
              "    </tr>\n",
              "    <tr>\n",
              "      <th>2</th>\n",
              "      <td>M</td>\n",
              "      <td>48</td>\n",
              "      <td>Sim</td>\n",
              "      <td>20.0</td>\n",
              "      <td>Não</td>\n",
              "      <td>Não</td>\n",
              "      <td>Não</td>\n",
              "      <td>Não</td>\n",
              "      <td>245.0</td>\n",
              "      <td>127.5</td>\n",
              "      <td>80.0</td>\n",
              "      <td>25.34</td>\n",
              "      <td>75.0</td>\n",
              "      <td>70.0</td>\n",
              "      <td>Não</td>\n",
              "    </tr>\n",
              "    <tr>\n",
              "      <th>3</th>\n",
              "      <td>F</td>\n",
              "      <td>61</td>\n",
              "      <td>Sim</td>\n",
              "      <td>30.0</td>\n",
              "      <td>Não</td>\n",
              "      <td>Não</td>\n",
              "      <td>Sim</td>\n",
              "      <td>Não</td>\n",
              "      <td>225.0</td>\n",
              "      <td>150.0</td>\n",
              "      <td>95.0</td>\n",
              "      <td>28.58</td>\n",
              "      <td>65.0</td>\n",
              "      <td>103.0</td>\n",
              "      <td>Sim</td>\n",
              "    </tr>\n",
              "    <tr>\n",
              "      <th>4</th>\n",
              "      <td>F</td>\n",
              "      <td>46</td>\n",
              "      <td>Sim</td>\n",
              "      <td>23.0</td>\n",
              "      <td>Não</td>\n",
              "      <td>Não</td>\n",
              "      <td>Não</td>\n",
              "      <td>Não</td>\n",
              "      <td>285.0</td>\n",
              "      <td>130.0</td>\n",
              "      <td>84.0</td>\n",
              "      <td>23.10</td>\n",
              "      <td>85.0</td>\n",
              "      <td>85.0</td>\n",
              "      <td>Não</td>\n",
              "    </tr>\n",
              "    <tr>\n",
              "      <th>5</th>\n",
              "      <td>F</td>\n",
              "      <td>43</td>\n",
              "      <td>Não</td>\n",
              "      <td>0.0</td>\n",
              "      <td>Não</td>\n",
              "      <td>Não</td>\n",
              "      <td>Sim</td>\n",
              "      <td>Não</td>\n",
              "      <td>228.0</td>\n",
              "      <td>180.0</td>\n",
              "      <td>110.0</td>\n",
              "      <td>30.30</td>\n",
              "      <td>77.0</td>\n",
              "      <td>99.0</td>\n",
              "      <td>Não</td>\n",
              "    </tr>\n",
              "    <tr>\n",
              "      <th>6</th>\n",
              "      <td>F</td>\n",
              "      <td>63</td>\n",
              "      <td>Não</td>\n",
              "      <td>0.0</td>\n",
              "      <td>Não</td>\n",
              "      <td>Não</td>\n",
              "      <td>Não</td>\n",
              "      <td>Não</td>\n",
              "      <td>205.0</td>\n",
              "      <td>138.0</td>\n",
              "      <td>71.0</td>\n",
              "      <td>33.11</td>\n",
              "      <td>60.0</td>\n",
              "      <td>85.0</td>\n",
              "      <td>Sim</td>\n",
              "    </tr>\n",
              "    <tr>\n",
              "      <th>7</th>\n",
              "      <td>F</td>\n",
              "      <td>45</td>\n",
              "      <td>Sim</td>\n",
              "      <td>20.0</td>\n",
              "      <td>Não</td>\n",
              "      <td>Não</td>\n",
              "      <td>Não</td>\n",
              "      <td>Não</td>\n",
              "      <td>313.0</td>\n",
              "      <td>100.0</td>\n",
              "      <td>71.0</td>\n",
              "      <td>21.68</td>\n",
              "      <td>79.0</td>\n",
              "      <td>78.0</td>\n",
              "      <td>Não</td>\n",
              "    </tr>\n",
              "    <tr>\n",
              "      <th>8</th>\n",
              "      <td>M</td>\n",
              "      <td>52</td>\n",
              "      <td>Não</td>\n",
              "      <td>0.0</td>\n",
              "      <td>Não</td>\n",
              "      <td>Não</td>\n",
              "      <td>Sim</td>\n",
              "      <td>Não</td>\n",
              "      <td>260.0</td>\n",
              "      <td>141.5</td>\n",
              "      <td>89.0</td>\n",
              "      <td>26.36</td>\n",
              "      <td>76.0</td>\n",
              "      <td>79.0</td>\n",
              "      <td>Não</td>\n",
              "    </tr>\n",
              "    <tr>\n",
              "      <th>9</th>\n",
              "      <td>M</td>\n",
              "      <td>43</td>\n",
              "      <td>Sim</td>\n",
              "      <td>30.0</td>\n",
              "      <td>Não</td>\n",
              "      <td>Não</td>\n",
              "      <td>Sim</td>\n",
              "      <td>Não</td>\n",
              "      <td>225.0</td>\n",
              "      <td>162.0</td>\n",
              "      <td>107.0</td>\n",
              "      <td>23.61</td>\n",
              "      <td>93.0</td>\n",
              "      <td>88.0</td>\n",
              "      <td>Não</td>\n",
              "    </tr>\n",
              "  </tbody>\n",
              "</table>\n",
              "</div>\n",
              "      <button class=\"colab-df-convert\" onclick=\"convertToInteractive('df-f0eea42c-4d64-4652-9e58-edaa71a48da6')\"\n",
              "              title=\"Convert this dataframe to an interactive table.\"\n",
              "              style=\"display:none;\">\n",
              "        \n",
              "  <svg xmlns=\"http://www.w3.org/2000/svg\" height=\"24px\"viewBox=\"0 0 24 24\"\n",
              "       width=\"24px\">\n",
              "    <path d=\"M0 0h24v24H0V0z\" fill=\"none\"/>\n",
              "    <path d=\"M18.56 5.44l.94 2.06.94-2.06 2.06-.94-2.06-.94-.94-2.06-.94 2.06-2.06.94zm-11 1L8.5 8.5l.94-2.06 2.06-.94-2.06-.94L8.5 2.5l-.94 2.06-2.06.94zm10 10l.94 2.06.94-2.06 2.06-.94-2.06-.94-.94-2.06-.94 2.06-2.06.94z\"/><path d=\"M17.41 7.96l-1.37-1.37c-.4-.4-.92-.59-1.43-.59-.52 0-1.04.2-1.43.59L10.3 9.45l-7.72 7.72c-.78.78-.78 2.05 0 2.83L4 21.41c.39.39.9.59 1.41.59.51 0 1.02-.2 1.41-.59l7.78-7.78 2.81-2.81c.8-.78.8-2.07 0-2.86zM5.41 20L4 18.59l7.72-7.72 1.47 1.35L5.41 20z\"/>\n",
              "  </svg>\n",
              "      </button>\n",
              "      \n",
              "  <style>\n",
              "    .colab-df-container {\n",
              "      display:flex;\n",
              "      flex-wrap:wrap;\n",
              "      gap: 12px;\n",
              "    }\n",
              "\n",
              "    .colab-df-convert {\n",
              "      background-color: #E8F0FE;\n",
              "      border: none;\n",
              "      border-radius: 50%;\n",
              "      cursor: pointer;\n",
              "      display: none;\n",
              "      fill: #1967D2;\n",
              "      height: 32px;\n",
              "      padding: 0 0 0 0;\n",
              "      width: 32px;\n",
              "    }\n",
              "\n",
              "    .colab-df-convert:hover {\n",
              "      background-color: #E2EBFA;\n",
              "      box-shadow: 0px 1px 2px rgba(60, 64, 67, 0.3), 0px 1px 3px 1px rgba(60, 64, 67, 0.15);\n",
              "      fill: #174EA6;\n",
              "    }\n",
              "\n",
              "    [theme=dark] .colab-df-convert {\n",
              "      background-color: #3B4455;\n",
              "      fill: #D2E3FC;\n",
              "    }\n",
              "\n",
              "    [theme=dark] .colab-df-convert:hover {\n",
              "      background-color: #434B5C;\n",
              "      box-shadow: 0px 1px 3px 1px rgba(0, 0, 0, 0.15);\n",
              "      filter: drop-shadow(0px 1px 2px rgba(0, 0, 0, 0.3));\n",
              "      fill: #FFFFFF;\n",
              "    }\n",
              "  </style>\n",
              "\n",
              "      <script>\n",
              "        const buttonEl =\n",
              "          document.querySelector('#df-f0eea42c-4d64-4652-9e58-edaa71a48da6 button.colab-df-convert');\n",
              "        buttonEl.style.display =\n",
              "          google.colab.kernel.accessAllowed ? 'block' : 'none';\n",
              "\n",
              "        async function convertToInteractive(key) {\n",
              "          const element = document.querySelector('#df-f0eea42c-4d64-4652-9e58-edaa71a48da6');\n",
              "          const dataTable =\n",
              "            await google.colab.kernel.invokeFunction('convertToInteractive',\n",
              "                                                     [key], {});\n",
              "          if (!dataTable) return;\n",
              "\n",
              "          const docLinkHtml = 'Like what you see? Visit the ' +\n",
              "            '<a target=\"_blank\" href=https://colab.research.google.com/notebooks/data_table.ipynb>data table notebook</a>'\n",
              "            + ' to learn more about interactive tables.';\n",
              "          element.innerHTML = '';\n",
              "          dataTable['output_type'] = 'display_data';\n",
              "          await google.colab.output.renderOutput(dataTable, element);\n",
              "          const docLink = document.createElement('div');\n",
              "          docLink.innerHTML = docLinkHtml;\n",
              "          element.appendChild(docLink);\n",
              "        }\n",
              "      </script>\n",
              "    </div>\n",
              "  </div>\n",
              "  "
            ]
          },
          "metadata": {},
          "execution_count": 6
        }
      ],
      "source": [
        "#Sugestão de tratamentos iniciais\n",
        "\n",
        "heart['male'] = np.where(heart['male'] == 1, 'M','F') # Troca os valores 1,0 por M, F\n",
        "heart['currentSmoker'] = np.where(heart['currentSmoker'] == 1, 'Sim','Não') # Troca os valores 1,0 por Sim, Não\n",
        "heart['BPMeds'] = np.where(heart['BPMeds'] == 1, 'Sim','Não') # Troca os valores 1,0 por Sim, Não\n",
        "heart['prevalentStroke'] = np.where(heart['prevalentStroke'] == 1, 'Sim','Não') # Troca os valores 1,0 por Sim, Não\n",
        "heart['prevalentHyp'] = np.where(heart['prevalentHyp'] == 1, 'Sim','Não') # Troca os valores 1,0 por Sim, Não\n",
        "heart['diabetes'] = np.where(heart['diabetes'] == 1, 'Sim','Não') # Troca os valores 1,0 por Sim, Não\n",
        "heart['TenYearCHD'] = np.where(heart['TenYearCHD'] == 1, 'Sim','Não') # Troca os valores 1,0 por Sim, Não\n",
        "heart.male = heart.male.astype('category') #Troca o tipo da variável de objeto para categórica\n",
        "heart.currentSmoker = heart.currentSmoker.astype('category') #Troca o tipo da variável de objeto para categórica\n",
        "heart.BPMeds = heart.BPMeds.astype('category') #Troca o tipo da variável de objeto para categórica\n",
        "heart.prevalentStroke = heart.prevalentStroke.astype('category') #Troca o tipo da variável de objeto para categórica\n",
        "heart.prevalentHyp = heart.prevalentHyp.astype('category') #Troca o tipo da variável de objeto para categórica\n",
        "heart.diabetes = heart.diabetes.astype('category') #Troca o tipo da variável de objeto para categórica\n",
        "heart.male = heart.male.astype('category') #Troca o tipo da variável de objeto para categórica\n",
        "heart.TenYearCHD = heart.TenYearCHD.astype('category') #Troca o tipo da variável de objeto para categórica\n",
        "heart = heart.drop(labels=['education'], axis=1) #Dropa a coluna com informação de educação\n",
        "print('Para facilitar a construção de gráficos e visualizações, as informações binárias foram trocadas para as strings respectivas')\n",
        "print('Algumas funções do python tem dificuldades em processar objetos, por isso elas foram atribuidas como categóricas')\n",
        "print('E após esse tratamento inicial, o banco fica assim:')\n",
        "heart.head(10)"
      ]
    },
    {
      "cell_type": "markdown",
      "metadata": {
        "id": "6sRN0Qj3Pkph"
      },
      "source": [
        "### Sobre o banco:\n",
        "\n",
        "Quais variáveis são qualitativas e quais variáveis são quantitativas?\n",
        "\n",
        "    As variaveis qualitativas são (male,CurrentSmoker,BPMeds,prevalentStroke,prevlentHyp, diabetes, tenYearCHD)\n",
        "\n",
        "    As variaveis quantitativas são(Age, cigsPerDay,Totchol,sysBP,diaBP,BMI,HeartRate,glucose)\n",
        "\n",
        "Existem variáveis qualitativas nominais?\n",
        "    \n",
        "    Male, CurrentSmoker,BPMeds,prevalentStroke,prevlentHyp, diabetes, tenYearCHD\n",
        "\n",
        "Existem variáveis qualitativas ordinais?\n",
        "    \n",
        "    não\n",
        "\n",
        "Existem variáveis quantitativas discretas?\n",
        "    \n",
        "    cigsPerDay\n",
        "Existem variáveis quantitativas continúas?\n",
        "    \n",
        "    Age, Totchol,sysBP,diaBP,BMI,HeartRate,glucose"
      ]
    },
    {
      "cell_type": "code",
      "source": [],
      "metadata": {
        "id": "Kwhy2OtZQAER"
      },
      "execution_count": 6,
      "outputs": []
    },
    {
      "cell_type": "code",
      "execution_count": 7,
      "metadata": {
        "id": "lMzky3tjzm1O",
        "colab": {
          "base_uri": "https://localhost:8080/",
          "height": 300
        },
        "outputId": "a9720e80-c3de-48ad-9ed2-4b140393da33"
      },
      "outputs": [
        {
          "output_type": "execute_result",
          "data": {
            "text/plain": [
              "               age   cigsPerDay      totChol        sysBP        diaBP  \\\n",
              "count  4238.000000  4209.000000  4188.000000  4238.000000  4238.000000   \n",
              "mean     49.584946     9.003089   236.721585   132.352407    82.893464   \n",
              "std       8.572160    11.920094    44.590334    22.038097    11.910850   \n",
              "min      32.000000     0.000000   107.000000    83.500000    48.000000   \n",
              "25%      42.000000     0.000000   206.000000   117.000000    75.000000   \n",
              "50%      49.000000     0.000000   234.000000   128.000000    82.000000   \n",
              "75%      56.000000    20.000000   263.000000   144.000000    89.875000   \n",
              "max      70.000000    70.000000   696.000000   295.000000   142.500000   \n",
              "\n",
              "               BMI    heartRate      glucose  \n",
              "count  4219.000000  4237.000000  3850.000000  \n",
              "mean     25.802008    75.878924    81.966753  \n",
              "std       4.080111    12.026596    23.959998  \n",
              "min      15.540000    44.000000    40.000000  \n",
              "25%      23.070000    68.000000    71.000000  \n",
              "50%      25.400000    75.000000    78.000000  \n",
              "75%      28.040000    83.000000    87.000000  \n",
              "max      56.800000   143.000000   394.000000  "
            ],
            "text/html": [
              "\n",
              "  <div id=\"df-9afe4c54-b2d8-44a2-849c-133f62a7d826\">\n",
              "    <div class=\"colab-df-container\">\n",
              "      <div>\n",
              "<style scoped>\n",
              "    .dataframe tbody tr th:only-of-type {\n",
              "        vertical-align: middle;\n",
              "    }\n",
              "\n",
              "    .dataframe tbody tr th {\n",
              "        vertical-align: top;\n",
              "    }\n",
              "\n",
              "    .dataframe thead th {\n",
              "        text-align: right;\n",
              "    }\n",
              "</style>\n",
              "<table border=\"1\" class=\"dataframe\">\n",
              "  <thead>\n",
              "    <tr style=\"text-align: right;\">\n",
              "      <th></th>\n",
              "      <th>age</th>\n",
              "      <th>cigsPerDay</th>\n",
              "      <th>totChol</th>\n",
              "      <th>sysBP</th>\n",
              "      <th>diaBP</th>\n",
              "      <th>BMI</th>\n",
              "      <th>heartRate</th>\n",
              "      <th>glucose</th>\n",
              "    </tr>\n",
              "  </thead>\n",
              "  <tbody>\n",
              "    <tr>\n",
              "      <th>count</th>\n",
              "      <td>4238.000000</td>\n",
              "      <td>4209.000000</td>\n",
              "      <td>4188.000000</td>\n",
              "      <td>4238.000000</td>\n",
              "      <td>4238.000000</td>\n",
              "      <td>4219.000000</td>\n",
              "      <td>4237.000000</td>\n",
              "      <td>3850.000000</td>\n",
              "    </tr>\n",
              "    <tr>\n",
              "      <th>mean</th>\n",
              "      <td>49.584946</td>\n",
              "      <td>9.003089</td>\n",
              "      <td>236.721585</td>\n",
              "      <td>132.352407</td>\n",
              "      <td>82.893464</td>\n",
              "      <td>25.802008</td>\n",
              "      <td>75.878924</td>\n",
              "      <td>81.966753</td>\n",
              "    </tr>\n",
              "    <tr>\n",
              "      <th>std</th>\n",
              "      <td>8.572160</td>\n",
              "      <td>11.920094</td>\n",
              "      <td>44.590334</td>\n",
              "      <td>22.038097</td>\n",
              "      <td>11.910850</td>\n",
              "      <td>4.080111</td>\n",
              "      <td>12.026596</td>\n",
              "      <td>23.959998</td>\n",
              "    </tr>\n",
              "    <tr>\n",
              "      <th>min</th>\n",
              "      <td>32.000000</td>\n",
              "      <td>0.000000</td>\n",
              "      <td>107.000000</td>\n",
              "      <td>83.500000</td>\n",
              "      <td>48.000000</td>\n",
              "      <td>15.540000</td>\n",
              "      <td>44.000000</td>\n",
              "      <td>40.000000</td>\n",
              "    </tr>\n",
              "    <tr>\n",
              "      <th>25%</th>\n",
              "      <td>42.000000</td>\n",
              "      <td>0.000000</td>\n",
              "      <td>206.000000</td>\n",
              "      <td>117.000000</td>\n",
              "      <td>75.000000</td>\n",
              "      <td>23.070000</td>\n",
              "      <td>68.000000</td>\n",
              "      <td>71.000000</td>\n",
              "    </tr>\n",
              "    <tr>\n",
              "      <th>50%</th>\n",
              "      <td>49.000000</td>\n",
              "      <td>0.000000</td>\n",
              "      <td>234.000000</td>\n",
              "      <td>128.000000</td>\n",
              "      <td>82.000000</td>\n",
              "      <td>25.400000</td>\n",
              "      <td>75.000000</td>\n",
              "      <td>78.000000</td>\n",
              "    </tr>\n",
              "    <tr>\n",
              "      <th>75%</th>\n",
              "      <td>56.000000</td>\n",
              "      <td>20.000000</td>\n",
              "      <td>263.000000</td>\n",
              "      <td>144.000000</td>\n",
              "      <td>89.875000</td>\n",
              "      <td>28.040000</td>\n",
              "      <td>83.000000</td>\n",
              "      <td>87.000000</td>\n",
              "    </tr>\n",
              "    <tr>\n",
              "      <th>max</th>\n",
              "      <td>70.000000</td>\n",
              "      <td>70.000000</td>\n",
              "      <td>696.000000</td>\n",
              "      <td>295.000000</td>\n",
              "      <td>142.500000</td>\n",
              "      <td>56.800000</td>\n",
              "      <td>143.000000</td>\n",
              "      <td>394.000000</td>\n",
              "    </tr>\n",
              "  </tbody>\n",
              "</table>\n",
              "</div>\n",
              "      <button class=\"colab-df-convert\" onclick=\"convertToInteractive('df-9afe4c54-b2d8-44a2-849c-133f62a7d826')\"\n",
              "              title=\"Convert this dataframe to an interactive table.\"\n",
              "              style=\"display:none;\">\n",
              "        \n",
              "  <svg xmlns=\"http://www.w3.org/2000/svg\" height=\"24px\"viewBox=\"0 0 24 24\"\n",
              "       width=\"24px\">\n",
              "    <path d=\"M0 0h24v24H0V0z\" fill=\"none\"/>\n",
              "    <path d=\"M18.56 5.44l.94 2.06.94-2.06 2.06-.94-2.06-.94-.94-2.06-.94 2.06-2.06.94zm-11 1L8.5 8.5l.94-2.06 2.06-.94-2.06-.94L8.5 2.5l-.94 2.06-2.06.94zm10 10l.94 2.06.94-2.06 2.06-.94-2.06-.94-.94-2.06-.94 2.06-2.06.94z\"/><path d=\"M17.41 7.96l-1.37-1.37c-.4-.4-.92-.59-1.43-.59-.52 0-1.04.2-1.43.59L10.3 9.45l-7.72 7.72c-.78.78-.78 2.05 0 2.83L4 21.41c.39.39.9.59 1.41.59.51 0 1.02-.2 1.41-.59l7.78-7.78 2.81-2.81c.8-.78.8-2.07 0-2.86zM5.41 20L4 18.59l7.72-7.72 1.47 1.35L5.41 20z\"/>\n",
              "  </svg>\n",
              "      </button>\n",
              "      \n",
              "  <style>\n",
              "    .colab-df-container {\n",
              "      display:flex;\n",
              "      flex-wrap:wrap;\n",
              "      gap: 12px;\n",
              "    }\n",
              "\n",
              "    .colab-df-convert {\n",
              "      background-color: #E8F0FE;\n",
              "      border: none;\n",
              "      border-radius: 50%;\n",
              "      cursor: pointer;\n",
              "      display: none;\n",
              "      fill: #1967D2;\n",
              "      height: 32px;\n",
              "      padding: 0 0 0 0;\n",
              "      width: 32px;\n",
              "    }\n",
              "\n",
              "    .colab-df-convert:hover {\n",
              "      background-color: #E2EBFA;\n",
              "      box-shadow: 0px 1px 2px rgba(60, 64, 67, 0.3), 0px 1px 3px 1px rgba(60, 64, 67, 0.15);\n",
              "      fill: #174EA6;\n",
              "    }\n",
              "\n",
              "    [theme=dark] .colab-df-convert {\n",
              "      background-color: #3B4455;\n",
              "      fill: #D2E3FC;\n",
              "    }\n",
              "\n",
              "    [theme=dark] .colab-df-convert:hover {\n",
              "      background-color: #434B5C;\n",
              "      box-shadow: 0px 1px 3px 1px rgba(0, 0, 0, 0.15);\n",
              "      filter: drop-shadow(0px 1px 2px rgba(0, 0, 0, 0.3));\n",
              "      fill: #FFFFFF;\n",
              "    }\n",
              "  </style>\n",
              "\n",
              "      <script>\n",
              "        const buttonEl =\n",
              "          document.querySelector('#df-9afe4c54-b2d8-44a2-849c-133f62a7d826 button.colab-df-convert');\n",
              "        buttonEl.style.display =\n",
              "          google.colab.kernel.accessAllowed ? 'block' : 'none';\n",
              "\n",
              "        async function convertToInteractive(key) {\n",
              "          const element = document.querySelector('#df-9afe4c54-b2d8-44a2-849c-133f62a7d826');\n",
              "          const dataTable =\n",
              "            await google.colab.kernel.invokeFunction('convertToInteractive',\n",
              "                                                     [key], {});\n",
              "          if (!dataTable) return;\n",
              "\n",
              "          const docLinkHtml = 'Like what you see? Visit the ' +\n",
              "            '<a target=\"_blank\" href=https://colab.research.google.com/notebooks/data_table.ipynb>data table notebook</a>'\n",
              "            + ' to learn more about interactive tables.';\n",
              "          element.innerHTML = '';\n",
              "          dataTable['output_type'] = 'display_data';\n",
              "          await google.colab.output.renderOutput(dataTable, element);\n",
              "          const docLink = document.createElement('div');\n",
              "          docLink.innerHTML = docLinkHtml;\n",
              "          element.appendChild(docLink);\n",
              "        }\n",
              "      </script>\n",
              "    </div>\n",
              "  </div>\n",
              "  "
            ]
          },
          "metadata": {},
          "execution_count": 7
        }
      ],
      "source": [
        "# Use a função .describe() para obter as estatísticas descritivas sumárias do conjunto de dados\n",
        "\n",
        "heart.describe()"
      ]
    },
    {
      "cell_type": "markdown",
      "metadata": {
        "id": "4mdkOJWlPkpj"
      },
      "source": [
        "Você também pode utilizar o parametro *percentiles* na função describe para obter outros percentis alem dos que são mostrados, como por exemplo:"
      ]
    },
    {
      "cell_type": "code",
      "execution_count": 8,
      "metadata": {
        "scrolled": true,
        "colab": {
          "base_uri": "https://localhost:8080/",
          "height": 426
        },
        "id": "2H71hXTOPkpj",
        "outputId": "af00794d-2bf1-4f19-8899-0078b4e3e21d"
      },
      "outputs": [
        {
          "output_type": "execute_result",
          "data": {
            "text/plain": [
              "               age   cigsPerDay      totChol        sysBP        diaBP  \\\n",
              "count  4238.000000  4209.000000  4188.000000  4238.000000  4238.000000   \n",
              "mean     49.584946     9.003089   236.721585   132.352407    82.893464   \n",
              "std       8.572160    11.920094    44.590334    22.038097    11.910850   \n",
              "min      32.000000     0.000000   107.000000    83.500000    48.000000   \n",
              "0%       32.000000     0.000000   107.000000    83.500000    48.000000   \n",
              "0.1%     33.000000     0.000000   126.561000    90.000000    52.237000   \n",
              "25%      42.000000     0.000000   206.000000   117.000000    75.000000   \n",
              "50%      49.000000     0.000000   234.000000   128.000000    82.000000   \n",
              "75%      56.000000    20.000000   263.000000   144.000000    89.875000   \n",
              "99%      67.000000    43.000000   354.130000   200.000000   118.000000   \n",
              "100%     70.000000    70.000000   696.000000   295.000000   142.500000   \n",
              "max      70.000000    70.000000   696.000000   295.000000   142.500000   \n",
              "\n",
              "               BMI    heartRate      glucose  \n",
              "count  4219.000000  4237.000000  3850.000000  \n",
              "mean     25.802008    75.878924    81.966753  \n",
              "std       4.080111    12.026596    23.959998  \n",
              "min      15.540000    44.000000    40.000000  \n",
              "0%       15.540000    44.000000    40.000000  \n",
              "0.1%     16.594360    47.236000    44.000000  \n",
              "25%      23.070000    68.000000    71.000000  \n",
              "50%      25.400000    75.000000    78.000000  \n",
              "75%      28.040000    83.000000    87.000000  \n",
              "99%      38.956400   110.000000   175.040000  \n",
              "100%     56.800000   143.000000   394.000000  \n",
              "max      56.800000   143.000000   394.000000  "
            ],
            "text/html": [
              "\n",
              "  <div id=\"df-8d9e975e-e822-4ddb-8dd7-cfa3847e5d9c\">\n",
              "    <div class=\"colab-df-container\">\n",
              "      <div>\n",
              "<style scoped>\n",
              "    .dataframe tbody tr th:only-of-type {\n",
              "        vertical-align: middle;\n",
              "    }\n",
              "\n",
              "    .dataframe tbody tr th {\n",
              "        vertical-align: top;\n",
              "    }\n",
              "\n",
              "    .dataframe thead th {\n",
              "        text-align: right;\n",
              "    }\n",
              "</style>\n",
              "<table border=\"1\" class=\"dataframe\">\n",
              "  <thead>\n",
              "    <tr style=\"text-align: right;\">\n",
              "      <th></th>\n",
              "      <th>age</th>\n",
              "      <th>cigsPerDay</th>\n",
              "      <th>totChol</th>\n",
              "      <th>sysBP</th>\n",
              "      <th>diaBP</th>\n",
              "      <th>BMI</th>\n",
              "      <th>heartRate</th>\n",
              "      <th>glucose</th>\n",
              "    </tr>\n",
              "  </thead>\n",
              "  <tbody>\n",
              "    <tr>\n",
              "      <th>count</th>\n",
              "      <td>4238.000000</td>\n",
              "      <td>4209.000000</td>\n",
              "      <td>4188.000000</td>\n",
              "      <td>4238.000000</td>\n",
              "      <td>4238.000000</td>\n",
              "      <td>4219.000000</td>\n",
              "      <td>4237.000000</td>\n",
              "      <td>3850.000000</td>\n",
              "    </tr>\n",
              "    <tr>\n",
              "      <th>mean</th>\n",
              "      <td>49.584946</td>\n",
              "      <td>9.003089</td>\n",
              "      <td>236.721585</td>\n",
              "      <td>132.352407</td>\n",
              "      <td>82.893464</td>\n",
              "      <td>25.802008</td>\n",
              "      <td>75.878924</td>\n",
              "      <td>81.966753</td>\n",
              "    </tr>\n",
              "    <tr>\n",
              "      <th>std</th>\n",
              "      <td>8.572160</td>\n",
              "      <td>11.920094</td>\n",
              "      <td>44.590334</td>\n",
              "      <td>22.038097</td>\n",
              "      <td>11.910850</td>\n",
              "      <td>4.080111</td>\n",
              "      <td>12.026596</td>\n",
              "      <td>23.959998</td>\n",
              "    </tr>\n",
              "    <tr>\n",
              "      <th>min</th>\n",
              "      <td>32.000000</td>\n",
              "      <td>0.000000</td>\n",
              "      <td>107.000000</td>\n",
              "      <td>83.500000</td>\n",
              "      <td>48.000000</td>\n",
              "      <td>15.540000</td>\n",
              "      <td>44.000000</td>\n",
              "      <td>40.000000</td>\n",
              "    </tr>\n",
              "    <tr>\n",
              "      <th>0%</th>\n",
              "      <td>32.000000</td>\n",
              "      <td>0.000000</td>\n",
              "      <td>107.000000</td>\n",
              "      <td>83.500000</td>\n",
              "      <td>48.000000</td>\n",
              "      <td>15.540000</td>\n",
              "      <td>44.000000</td>\n",
              "      <td>40.000000</td>\n",
              "    </tr>\n",
              "    <tr>\n",
              "      <th>0.1%</th>\n",
              "      <td>33.000000</td>\n",
              "      <td>0.000000</td>\n",
              "      <td>126.561000</td>\n",
              "      <td>90.000000</td>\n",
              "      <td>52.237000</td>\n",
              "      <td>16.594360</td>\n",
              "      <td>47.236000</td>\n",
              "      <td>44.000000</td>\n",
              "    </tr>\n",
              "    <tr>\n",
              "      <th>25%</th>\n",
              "      <td>42.000000</td>\n",
              "      <td>0.000000</td>\n",
              "      <td>206.000000</td>\n",
              "      <td>117.000000</td>\n",
              "      <td>75.000000</td>\n",
              "      <td>23.070000</td>\n",
              "      <td>68.000000</td>\n",
              "      <td>71.000000</td>\n",
              "    </tr>\n",
              "    <tr>\n",
              "      <th>50%</th>\n",
              "      <td>49.000000</td>\n",
              "      <td>0.000000</td>\n",
              "      <td>234.000000</td>\n",
              "      <td>128.000000</td>\n",
              "      <td>82.000000</td>\n",
              "      <td>25.400000</td>\n",
              "      <td>75.000000</td>\n",
              "      <td>78.000000</td>\n",
              "    </tr>\n",
              "    <tr>\n",
              "      <th>75%</th>\n",
              "      <td>56.000000</td>\n",
              "      <td>20.000000</td>\n",
              "      <td>263.000000</td>\n",
              "      <td>144.000000</td>\n",
              "      <td>89.875000</td>\n",
              "      <td>28.040000</td>\n",
              "      <td>83.000000</td>\n",
              "      <td>87.000000</td>\n",
              "    </tr>\n",
              "    <tr>\n",
              "      <th>99%</th>\n",
              "      <td>67.000000</td>\n",
              "      <td>43.000000</td>\n",
              "      <td>354.130000</td>\n",
              "      <td>200.000000</td>\n",
              "      <td>118.000000</td>\n",
              "      <td>38.956400</td>\n",
              "      <td>110.000000</td>\n",
              "      <td>175.040000</td>\n",
              "    </tr>\n",
              "    <tr>\n",
              "      <th>100%</th>\n",
              "      <td>70.000000</td>\n",
              "      <td>70.000000</td>\n",
              "      <td>696.000000</td>\n",
              "      <td>295.000000</td>\n",
              "      <td>142.500000</td>\n",
              "      <td>56.800000</td>\n",
              "      <td>143.000000</td>\n",
              "      <td>394.000000</td>\n",
              "    </tr>\n",
              "    <tr>\n",
              "      <th>max</th>\n",
              "      <td>70.000000</td>\n",
              "      <td>70.000000</td>\n",
              "      <td>696.000000</td>\n",
              "      <td>295.000000</td>\n",
              "      <td>142.500000</td>\n",
              "      <td>56.800000</td>\n",
              "      <td>143.000000</td>\n",
              "      <td>394.000000</td>\n",
              "    </tr>\n",
              "  </tbody>\n",
              "</table>\n",
              "</div>\n",
              "      <button class=\"colab-df-convert\" onclick=\"convertToInteractive('df-8d9e975e-e822-4ddb-8dd7-cfa3847e5d9c')\"\n",
              "              title=\"Convert this dataframe to an interactive table.\"\n",
              "              style=\"display:none;\">\n",
              "        \n",
              "  <svg xmlns=\"http://www.w3.org/2000/svg\" height=\"24px\"viewBox=\"0 0 24 24\"\n",
              "       width=\"24px\">\n",
              "    <path d=\"M0 0h24v24H0V0z\" fill=\"none\"/>\n",
              "    <path d=\"M18.56 5.44l.94 2.06.94-2.06 2.06-.94-2.06-.94-.94-2.06-.94 2.06-2.06.94zm-11 1L8.5 8.5l.94-2.06 2.06-.94-2.06-.94L8.5 2.5l-.94 2.06-2.06.94zm10 10l.94 2.06.94-2.06 2.06-.94-2.06-.94-.94-2.06-.94 2.06-2.06.94z\"/><path d=\"M17.41 7.96l-1.37-1.37c-.4-.4-.92-.59-1.43-.59-.52 0-1.04.2-1.43.59L10.3 9.45l-7.72 7.72c-.78.78-.78 2.05 0 2.83L4 21.41c.39.39.9.59 1.41.59.51 0 1.02-.2 1.41-.59l7.78-7.78 2.81-2.81c.8-.78.8-2.07 0-2.86zM5.41 20L4 18.59l7.72-7.72 1.47 1.35L5.41 20z\"/>\n",
              "  </svg>\n",
              "      </button>\n",
              "      \n",
              "  <style>\n",
              "    .colab-df-container {\n",
              "      display:flex;\n",
              "      flex-wrap:wrap;\n",
              "      gap: 12px;\n",
              "    }\n",
              "\n",
              "    .colab-df-convert {\n",
              "      background-color: #E8F0FE;\n",
              "      border: none;\n",
              "      border-radius: 50%;\n",
              "      cursor: pointer;\n",
              "      display: none;\n",
              "      fill: #1967D2;\n",
              "      height: 32px;\n",
              "      padding: 0 0 0 0;\n",
              "      width: 32px;\n",
              "    }\n",
              "\n",
              "    .colab-df-convert:hover {\n",
              "      background-color: #E2EBFA;\n",
              "      box-shadow: 0px 1px 2px rgba(60, 64, 67, 0.3), 0px 1px 3px 1px rgba(60, 64, 67, 0.15);\n",
              "      fill: #174EA6;\n",
              "    }\n",
              "\n",
              "    [theme=dark] .colab-df-convert {\n",
              "      background-color: #3B4455;\n",
              "      fill: #D2E3FC;\n",
              "    }\n",
              "\n",
              "    [theme=dark] .colab-df-convert:hover {\n",
              "      background-color: #434B5C;\n",
              "      box-shadow: 0px 1px 3px 1px rgba(0, 0, 0, 0.15);\n",
              "      filter: drop-shadow(0px 1px 2px rgba(0, 0, 0, 0.3));\n",
              "      fill: #FFFFFF;\n",
              "    }\n",
              "  </style>\n",
              "\n",
              "      <script>\n",
              "        const buttonEl =\n",
              "          document.querySelector('#df-8d9e975e-e822-4ddb-8dd7-cfa3847e5d9c button.colab-df-convert');\n",
              "        buttonEl.style.display =\n",
              "          google.colab.kernel.accessAllowed ? 'block' : 'none';\n",
              "\n",
              "        async function convertToInteractive(key) {\n",
              "          const element = document.querySelector('#df-8d9e975e-e822-4ddb-8dd7-cfa3847e5d9c');\n",
              "          const dataTable =\n",
              "            await google.colab.kernel.invokeFunction('convertToInteractive',\n",
              "                                                     [key], {});\n",
              "          if (!dataTable) return;\n",
              "\n",
              "          const docLinkHtml = 'Like what you see? Visit the ' +\n",
              "            '<a target=\"_blank\" href=https://colab.research.google.com/notebooks/data_table.ipynb>data table notebook</a>'\n",
              "            + ' to learn more about interactive tables.';\n",
              "          element.innerHTML = '';\n",
              "          dataTable['output_type'] = 'display_data';\n",
              "          await google.colab.output.renderOutput(dataTable, element);\n",
              "          const docLink = document.createElement('div');\n",
              "          docLink.innerHTML = docLinkHtml;\n",
              "          element.appendChild(docLink);\n",
              "        }\n",
              "      </script>\n",
              "    </div>\n",
              "  </div>\n",
              "  "
            ]
          },
          "metadata": {},
          "execution_count": 8
        }
      ],
      "source": [
        "# Use a função .describe() para obter as estatísticas descritivas sumárias do conjunto de dados\n",
        "\n",
        "heart.describe(percentiles = [0,0.001, 0.25,0.5,0.75,0.99, 1])"
      ]
    },
    {
      "cell_type": "markdown",
      "metadata": {
        "id": "5DI3G9cZPkpk"
      },
      "source": [
        "Observar os percentis de $1\\%$ e $99\\%$ ajudam a identificar possiveis dados discrepantes no conjunto de dados.\n",
        "\n",
        "Dentre as variáveis e os percentis observados, alguma das informações parece não estar correta?"
      ]
    },
    {
      "cell_type": "markdown",
      "metadata": {
        "id": "tnnXhu5QPkpk"
      },
      "source": [
        "Observe que a função *.describe()* só retornou informações sobre os dados numéricos\n",
        "\n",
        "Você também pode utilizar o parametro *include=['category']* na função describe para obter informações das variáveis categóricas"
      ]
    },
    {
      "cell_type": "code",
      "execution_count": 9,
      "metadata": {
        "id": "84Y7K3mmPkpl",
        "outputId": "9b4a6ce8-3888-48be-e6b7-22f8525b37cb",
        "colab": {
          "base_uri": "https://localhost:8080/",
          "height": 175
        }
      },
      "outputs": [
        {
          "output_type": "execute_result",
          "data": {
            "text/plain": [
              "        male currentSmoker BPMeds prevalentStroke prevalentHyp diabetes  \\\n",
              "count   4238          4238   4238            4238         4238     4238   \n",
              "unique     2             2      2               2            2        2   \n",
              "top        F           Não    Não             Não          Não      Não   \n",
              "freq    2419          2144   4114            4213         2922     4129   \n",
              "\n",
              "       TenYearCHD  \n",
              "count        4238  \n",
              "unique          2  \n",
              "top           Não  \n",
              "freq         3594  "
            ],
            "text/html": [
              "\n",
              "  <div id=\"df-7145768b-b4d4-4392-9816-bcd5c5e683fc\">\n",
              "    <div class=\"colab-df-container\">\n",
              "      <div>\n",
              "<style scoped>\n",
              "    .dataframe tbody tr th:only-of-type {\n",
              "        vertical-align: middle;\n",
              "    }\n",
              "\n",
              "    .dataframe tbody tr th {\n",
              "        vertical-align: top;\n",
              "    }\n",
              "\n",
              "    .dataframe thead th {\n",
              "        text-align: right;\n",
              "    }\n",
              "</style>\n",
              "<table border=\"1\" class=\"dataframe\">\n",
              "  <thead>\n",
              "    <tr style=\"text-align: right;\">\n",
              "      <th></th>\n",
              "      <th>male</th>\n",
              "      <th>currentSmoker</th>\n",
              "      <th>BPMeds</th>\n",
              "      <th>prevalentStroke</th>\n",
              "      <th>prevalentHyp</th>\n",
              "      <th>diabetes</th>\n",
              "      <th>TenYearCHD</th>\n",
              "    </tr>\n",
              "  </thead>\n",
              "  <tbody>\n",
              "    <tr>\n",
              "      <th>count</th>\n",
              "      <td>4238</td>\n",
              "      <td>4238</td>\n",
              "      <td>4238</td>\n",
              "      <td>4238</td>\n",
              "      <td>4238</td>\n",
              "      <td>4238</td>\n",
              "      <td>4238</td>\n",
              "    </tr>\n",
              "    <tr>\n",
              "      <th>unique</th>\n",
              "      <td>2</td>\n",
              "      <td>2</td>\n",
              "      <td>2</td>\n",
              "      <td>2</td>\n",
              "      <td>2</td>\n",
              "      <td>2</td>\n",
              "      <td>2</td>\n",
              "    </tr>\n",
              "    <tr>\n",
              "      <th>top</th>\n",
              "      <td>F</td>\n",
              "      <td>Não</td>\n",
              "      <td>Não</td>\n",
              "      <td>Não</td>\n",
              "      <td>Não</td>\n",
              "      <td>Não</td>\n",
              "      <td>Não</td>\n",
              "    </tr>\n",
              "    <tr>\n",
              "      <th>freq</th>\n",
              "      <td>2419</td>\n",
              "      <td>2144</td>\n",
              "      <td>4114</td>\n",
              "      <td>4213</td>\n",
              "      <td>2922</td>\n",
              "      <td>4129</td>\n",
              "      <td>3594</td>\n",
              "    </tr>\n",
              "  </tbody>\n",
              "</table>\n",
              "</div>\n",
              "      <button class=\"colab-df-convert\" onclick=\"convertToInteractive('df-7145768b-b4d4-4392-9816-bcd5c5e683fc')\"\n",
              "              title=\"Convert this dataframe to an interactive table.\"\n",
              "              style=\"display:none;\">\n",
              "        \n",
              "  <svg xmlns=\"http://www.w3.org/2000/svg\" height=\"24px\"viewBox=\"0 0 24 24\"\n",
              "       width=\"24px\">\n",
              "    <path d=\"M0 0h24v24H0V0z\" fill=\"none\"/>\n",
              "    <path d=\"M18.56 5.44l.94 2.06.94-2.06 2.06-.94-2.06-.94-.94-2.06-.94 2.06-2.06.94zm-11 1L8.5 8.5l.94-2.06 2.06-.94-2.06-.94L8.5 2.5l-.94 2.06-2.06.94zm10 10l.94 2.06.94-2.06 2.06-.94-2.06-.94-.94-2.06-.94 2.06-2.06.94z\"/><path d=\"M17.41 7.96l-1.37-1.37c-.4-.4-.92-.59-1.43-.59-.52 0-1.04.2-1.43.59L10.3 9.45l-7.72 7.72c-.78.78-.78 2.05 0 2.83L4 21.41c.39.39.9.59 1.41.59.51 0 1.02-.2 1.41-.59l7.78-7.78 2.81-2.81c.8-.78.8-2.07 0-2.86zM5.41 20L4 18.59l7.72-7.72 1.47 1.35L5.41 20z\"/>\n",
              "  </svg>\n",
              "      </button>\n",
              "      \n",
              "  <style>\n",
              "    .colab-df-container {\n",
              "      display:flex;\n",
              "      flex-wrap:wrap;\n",
              "      gap: 12px;\n",
              "    }\n",
              "\n",
              "    .colab-df-convert {\n",
              "      background-color: #E8F0FE;\n",
              "      border: none;\n",
              "      border-radius: 50%;\n",
              "      cursor: pointer;\n",
              "      display: none;\n",
              "      fill: #1967D2;\n",
              "      height: 32px;\n",
              "      padding: 0 0 0 0;\n",
              "      width: 32px;\n",
              "    }\n",
              "\n",
              "    .colab-df-convert:hover {\n",
              "      background-color: #E2EBFA;\n",
              "      box-shadow: 0px 1px 2px rgba(60, 64, 67, 0.3), 0px 1px 3px 1px rgba(60, 64, 67, 0.15);\n",
              "      fill: #174EA6;\n",
              "    }\n",
              "\n",
              "    [theme=dark] .colab-df-convert {\n",
              "      background-color: #3B4455;\n",
              "      fill: #D2E3FC;\n",
              "    }\n",
              "\n",
              "    [theme=dark] .colab-df-convert:hover {\n",
              "      background-color: #434B5C;\n",
              "      box-shadow: 0px 1px 3px 1px rgba(0, 0, 0, 0.15);\n",
              "      filter: drop-shadow(0px 1px 2px rgba(0, 0, 0, 0.3));\n",
              "      fill: #FFFFFF;\n",
              "    }\n",
              "  </style>\n",
              "\n",
              "      <script>\n",
              "        const buttonEl =\n",
              "          document.querySelector('#df-7145768b-b4d4-4392-9816-bcd5c5e683fc button.colab-df-convert');\n",
              "        buttonEl.style.display =\n",
              "          google.colab.kernel.accessAllowed ? 'block' : 'none';\n",
              "\n",
              "        async function convertToInteractive(key) {\n",
              "          const element = document.querySelector('#df-7145768b-b4d4-4392-9816-bcd5c5e683fc');\n",
              "          const dataTable =\n",
              "            await google.colab.kernel.invokeFunction('convertToInteractive',\n",
              "                                                     [key], {});\n",
              "          if (!dataTable) return;\n",
              "\n",
              "          const docLinkHtml = 'Like what you see? Visit the ' +\n",
              "            '<a target=\"_blank\" href=https://colab.research.google.com/notebooks/data_table.ipynb>data table notebook</a>'\n",
              "            + ' to learn more about interactive tables.';\n",
              "          element.innerHTML = '';\n",
              "          dataTable['output_type'] = 'display_data';\n",
              "          await google.colab.output.renderOutput(dataTable, element);\n",
              "          const docLink = document.createElement('div');\n",
              "          docLink.innerHTML = docLinkHtml;\n",
              "          element.appendChild(docLink);\n",
              "        }\n",
              "      </script>\n",
              "    </div>\n",
              "  </div>\n",
              "  "
            ]
          },
          "metadata": {},
          "execution_count": 9
        }
      ],
      "source": [
        "# Use a função .describe() para obter as estatísticas descritivas sumárias das variáveis categóricas\n",
        "\n",
        "#Digite aqui\n",
        "heart.describe(include = ['category'])"
      ]
    },
    {
      "cell_type": "markdown",
      "metadata": {
        "id": "De0s1VkKPkpl"
      },
      "source": [
        "Após observar as variáveis categóricas que conclusões podemos observar?\n",
        "\n",
        "    A maior base dos dados são mulheres que não fumam, e que não possuem nenhuma condição medica das listadas \n",
        "\n",
        "O conjunto de dados é um conjunto de dados balanceado?\n",
        "\n",
        "    não temos pouca incidencia positivas no historico medico dos entrevistados\n",
        "\n",
        "Interprete cada caso.\n",
        "\n",
        "    Male: a maioria dos entrevistados são mulhers mas pode se considerar uma variavel balanceada\n",
        "    currentSmoker: a maioria dos entrevistados não fumam, mas a diferença e pouca e uma variavel balanceada.\n",
        "    as variaveis de historico medico, tem sua maioria como não ocorrencias e não são variaveis balanceadas tendo poucos casos positivos. \n",
        "\n",
        "    "
      ]
    },
    {
      "cell_type": "markdown",
      "metadata": {
        "id": "B7KadeO-Pkpl"
      },
      "source": [
        "# Visualização de dados\n",
        "\n",
        " **Obs:** Esse módulo do curso ainda não trata sobre Dataviz e Data storytelling. Aqui veremos apenas alguns gráficos simples com o objetivo de **Explorar** o conjunto de dados"
      ]
    },
    {
      "cell_type": "markdown",
      "metadata": {
        "id": "vhOHWtP2Pkpm"
      },
      "source": [
        "## Análise Univariada\n",
        "\n",
        "Vamos olhar para algumas variáveis de forma independente"
      ]
    },
    {
      "cell_type": "code",
      "execution_count": 10,
      "metadata": {
        "scrolled": true,
        "colab": {
          "base_uri": "https://localhost:8080/",
          "height": 378
        },
        "id": "9rKBy96MPkpm",
        "outputId": "ae538593-c57b-449f-baad-4b54a3084b6a"
      },
      "outputs": [
        {
          "output_type": "execute_result",
          "data": {
            "text/plain": [
              "<matplotlib.axes._subplots.AxesSubplot at 0x7f2f6ff03390>"
            ]
          },
          "metadata": {},
          "execution_count": 10
        },
        {
          "output_type": "display_data",
          "data": {
            "text/plain": [
              "<Figure size 576x396 with 1 Axes>"
            ],
            "image/png": "[encoded data removed]"
          },
          "metadata": {}
        }
      ],
      "source": [
        "#Como o uso da biblioteca Seaborn podemos plotar uns gráficos \"mais elegantes que apenas o plot\"\n",
        "\n",
        "#Aqui a função plota um histograma,\n",
        "#o argumento kde (pode ser removido) atribui ao histograma uma linha que desenha a densidade dessa distribuição\n",
        "sns.histplot(heart.cigsPerDay, alpha=0.4, kde=True, kde_kws={\"cut\": 1})"
      ]
    },
    {
      "cell_type": "markdown",
      "metadata": {
        "id": "OU2AGBPMPkpm"
      },
      "source": [
        "O que podemos concluir observando o número de de cigarros que os pacientes fumam podia?\n",
        "    \n",
        "    existe um numero alto de 0 cigarros fumados por dia pois os não fumantes estão inclusos.\n",
        "    Podemos dizer que pouco mais de 1000 pessoas disseram fumar entre 15 a 20 \n",
        "    cigarros por dia. \n",
        "    E pouco menos de 500 pesoas fumam 30 ou mais cigarros por dia. "
      ]
    },
    {
      "cell_type": "markdown",
      "metadata": {
        "id": "8THLMj5gPkpm"
      },
      "source": [
        "Observe que nenhuma filtragem foi feita, logo o histograma retorna todas as informações do banco, incluindo o de pessoas que não fumam cigarro, ou seja que fumam 0 cigarros por dia.\n",
        "\n",
        "Uma forma de contornar esse olhar é filtrar a informação que queremos: Primeiro indique qual o filtro deve ser atribuido no banco e depois selecione a coluna que deseja plotar.\n",
        "\n",
        "O código pode parecer confuso, mas evita criar bancos de dados paralelos e pesar a memória do computador."
      ]
    },
    {
      "cell_type": "code",
      "execution_count": 11,
      "metadata": {
        "colab": {
          "base_uri": "https://localhost:8080/",
          "height": 378
        },
        "id": "wOcu2G_1Pkpm",
        "outputId": "2a6c5af3-30b9-4521-f5a5-d8c4e965e3b5"
      },
      "outputs": [
        {
          "output_type": "execute_result",
          "data": {
            "text/plain": [
              "<matplotlib.axes._subplots.AxesSubplot at 0x7f2f6fd96210>"
            ]
          },
          "metadata": {},
          "execution_count": 11
        },
        {
          "output_type": "display_data",
          "data": {
            "text/plain": [
              "<Figure size 576x396 with 1 Axes>"
            ],
            "image/png": "[encoded data removed]"
          },
          "metadata": {}
        }
      ],
      "source": [
        "sns.histplot(heart.query('currentSmoker == \"Sim\"').cigsPerDay,\n",
        "             alpha=0.4,\n",
        "             kde=True,\n",
        "             kde_kws={\"cut\": 3})"
      ]
    },
    {
      "cell_type": "markdown",
      "metadata": {
        "id": "26yA7qYIPkpn"
      },
      "source": [
        "Observe como a informação muda. Agora de fato entre os fumantes qual conclusão podemos obter observando o número de cigarros fumados por dia?\n",
        "\n",
        "    Agora e possivel dizer que entre 600-700 pessoas fumam menos de 10 cigarros por dia "
      ]
    },
    {
      "cell_type": "markdown",
      "metadata": {
        "id": "6NCKj0VHPkpn"
      },
      "source": [
        "### Sua vez:\n",
        "**Plote outros histogramas e observe como as variáveis numéricas se distribuem e quais conclusões podem ser tiradas.**\n",
        "_______________________________________________________________________________________________\n"
      ]
    },
    {
      "cell_type": "code",
      "execution_count": 12,
      "metadata": {
        "colab": {
          "base_uri": "https://localhost:8080/",
          "height": 378
        },
        "id": "Mzbn6ut1Pkpn",
        "outputId": "3f9da5ca-a7d6-4749-9aa1-97fc2f4fedcf"
      },
      "outputs": [
        {
          "output_type": "execute_result",
          "data": {
            "text/plain": [
              "<matplotlib.axes._subplots.AxesSubplot at 0x7f2f6fde0810>"
            ]
          },
          "metadata": {},
          "execution_count": 12
        },
        {
          "output_type": "display_data",
          "data": {
            "text/plain": [
              "<Figure size 576x396 with 1 Axes>"
            ],
            "image/png": "[encoded data removed]"
          },
          "metadata": {}
        }
      ],
      "source": [
        "#Aqui a função plota um barplot\n",
        "\n",
        "sns.countplot(heart.male)"
      ]
    },
    {
      "cell_type": "markdown",
      "metadata": {
        "id": "4ihFQk9FPkpn"
      },
      "source": [
        "O que podemos concluir observando o volume de pessoas  de cada sexo?\n",
        "\n",
        "Existe algum grupo dominante?\n",
        "\n",
        "    Sim os entrevistados sao em sua maioria mulheres"
      ]
    },
    {
      "cell_type": "markdown",
      "metadata": {
        "id": "2jgCNWOxPkpo"
      },
      "source": [
        "### Sua vez:\n",
        "**Plote outros gráficos de barras e observe como as variáveis categóricas se distribuem e quais conclusões podem ser tiradas.**"
      ]
    },
    {
      "cell_type": "code",
      "source": [
        "sns.countplot(heart.currentSmoker)\n"
      ],
      "metadata": {
        "id": "oklJyx60kijE",
        "outputId": "564d8249-2dbd-49ee-d483-5102f03bf650",
        "colab": {
          "base_uri": "https://localhost:8080/",
          "height": 378
        }
      },
      "execution_count": 13,
      "outputs": [
        {
          "output_type": "execute_result",
          "data": {
            "text/plain": [
              "<matplotlib.axes._subplots.AxesSubplot at 0x7f2f6f7713d0>"
            ]
          },
          "metadata": {},
          "execution_count": 13
        },
        {
          "output_type": "display_data",
          "data": {
            "text/plain": [
              "<Figure size 576x396 with 1 Axes>"
            ],
            "image/png": "[encoded data removed]"
          },
          "metadata": {}
        }
      ]
    },
    {
      "cell_type": "markdown",
      "source": [
        "a diferença em currentSmoker e muito pouca como tinha visto anteriormente "
      ],
      "metadata": {
        "id": "Nc1s_-dclUup"
      }
    },
    {
      "cell_type": "code",
      "source": [
        "sns.countplot(heart.BPMeds)"
      ],
      "metadata": {
        "id": "P4hkBjWLlakQ",
        "outputId": "658f35c7-77bd-4446-fdd0-34d30c93f7f9",
        "colab": {
          "base_uri": "https://localhost:8080/",
          "height": 378
        }
      },
      "execution_count": 14,
      "outputs": [
        {
          "output_type": "execute_result",
          "data": {
            "text/plain": [
              "<matplotlib.axes._subplots.AxesSubplot at 0x7f2f6f73ef10>"
            ]
          },
          "metadata": {},
          "execution_count": 14
        },
        {
          "output_type": "display_data",
          "data": {
            "text/plain": [
              "<Figure size 576x396 with 1 Axes>"
            ],
            "image/png": "[encoded data removed]"
          },
          "metadata": {}
        }
      ]
    },
    {
      "cell_type": "markdown",
      "source": [
        "quase não existe incidência de pacientes que tomam medicação, tornando uma variavel desbalanceada "
      ],
      "metadata": {
        "id": "FoAq0w1XloX0"
      }
    },
    {
      "cell_type": "code",
      "source": [
        "sns.countplot(heart.prevalentHyp)"
      ],
      "metadata": {
        "id": "Zxk1_JKDlhcY",
        "outputId": "6e43768d-2b73-4cfe-8250-3c9f0c606424",
        "colab": {
          "base_uri": "https://localhost:8080/",
          "height": 378
        }
      },
      "execution_count": 15,
      "outputs": [
        {
          "output_type": "execute_result",
          "data": {
            "text/plain": [
              "<matplotlib.axes._subplots.AxesSubplot at 0x7f2f6f6b3610>"
            ]
          },
          "metadata": {},
          "execution_count": 15
        },
        {
          "output_type": "display_data",
          "data": {
            "text/plain": [
              "<Figure size 576x396 with 1 Axes>"
            ],
            "image/png": "[encoded data removed]"
          },
          "metadata": {}
        }
      ]
    },
    {
      "cell_type": "markdown",
      "source": [
        "As variaveis de condições medicas estão todas desbanlaceadas com pouca incidencias de casos positivos. "
      ],
      "metadata": {
        "id": "6_BJXiBgl9HL"
      }
    },
    {
      "cell_type": "markdown",
      "metadata": {
        "id": "aWVjIfU5Pkpo"
      },
      "source": [
        "## Análise Multivariada\n",
        "\n",
        "**Vamos olhar para algumas variáveis cruzando informações entre elas**"
      ]
    },
    {
      "cell_type": "code",
      "execution_count": 16,
      "metadata": {
        "colab": {
          "base_uri": "https://localhost:8080/",
          "height": 382
        },
        "id": "z3RcyEXUPkpo",
        "outputId": "15850ae4-7b18-4abc-bb4c-9ffc9a6caa85"
      },
      "outputs": [
        {
          "output_type": "execute_result",
          "data": {
            "text/plain": [
              "<seaborn.axisgrid.FacetGrid at 0x7f2f6f68eb90>"
            ]
          },
          "metadata": {},
          "execution_count": 16
        },
        {
          "output_type": "display_data",
          "data": {
            "text/plain": [
              "<Figure size 360x360 with 1 Axes>"
            ],
            "image/png": "[encoded data removed]"
          },
          "metadata": {}
        }
      ],
      "source": [
        "#Vamos fazer uma função mais elaborada e plotar um Scarplot entre as variáveis de pressão sistólica e diastólica\n",
        "\n",
        "import seaborn as sns\n",
        "sns.set_theme(style=\"whitegrid\")\n",
        "\n",
        "\n",
        "cmap = sns.cubehelix_palette(rot=-.2, as_cmap=True)\n",
        "g = sns.relplot(\n",
        "    data=heart,\n",
        "    x=\"sysBP\", y=\"diaBP\")\n",
        "g.ax.xaxis.grid(True, \"minor\", linewidth=.25)\n",
        "g.ax.yaxis.grid(True, \"minor\", linewidth=.25)\n",
        "g.despine(left=True, bottom=True)"
      ]
    },
    {
      "cell_type": "markdown",
      "metadata": {
        "id": "mwGOeQRzPkpo"
      },
      "source": [
        "\n",
        "**O gráfico plotado mostra a disperção quando olhamos o comportamento da pressão diastólica e a pressão sistólica medida, configurando uma análise bivariada. Olhando o comportamento dos pontos é possivel identificar um padrão?**\n",
        "\n",
        "    quanto maior a pressão sistólica tbm a aumento na pressão diastólica\n"
      ]
    },
    {
      "cell_type": "code",
      "execution_count": 17,
      "metadata": {
        "colab": {
          "base_uri": "https://localhost:8080/",
          "height": 382
        },
        "id": "6h1jh5-bPkpo",
        "outputId": "ed68562e-88c4-44e6-af6b-5f965d76ac53"
      },
      "outputs": [
        {
          "output_type": "execute_result",
          "data": {
            "text/plain": [
              "<seaborn.axisgrid.FacetGrid at 0x7f2f6f609550>"
            ]
          },
          "metadata": {},
          "execution_count": 17
        },
        {
          "output_type": "display_data",
          "data": {
            "text/plain": [
              "<Figure size 441.425x360 with 1 Axes>"
            ],
            "image/png": "[encoded data removed]"
          },
          "metadata": {}
        }
      ],
      "source": [
        "# Refinando a informação anterior\n",
        "sns.set_theme(style=\"whitegrid\")\n",
        "\n",
        "\n",
        "cmap = sns.cubehelix_palette(rot=-.2, as_cmap=True)\n",
        "g = sns.relplot(\n",
        "    data=heart,\n",
        "    x=\"sysBP\", y=\"diaBP\",\n",
        "    hue=\"TenYearCHD\",\n",
        ")\n",
        "g.ax.xaxis.grid(True, \"minor\", linewidth=.25)\n",
        "g.ax.yaxis.grid(True, \"minor\", linewidth=.25)\n",
        "g.despine(left=True, bottom=True)"
      ]
    },
    {
      "cell_type": "markdown",
      "metadata": {
        "id": "2rNw3MtcPkpp"
      },
      "source": [
        "**Com o argumento *hue* podemos agrupar a informação em categorias e observar o mesmo comportamento, agora distinguindo por cores pessoas propensas a ter doença coronária e pessoas não propensas.**\n",
        "\n",
        "**Agora com uma análise multivariada,  é possivel concluir algo entre a relação de as informações de pressão diastólica, pressão sistólica e risco de doença coronárioa?**\n",
        "\n",
        "    Aparentemente a pressão sistolica e diastolica tem pouca ou nenhuma influencia no risco de doença coronaria "
      ]
    },
    {
      "cell_type": "code",
      "execution_count": 18,
      "metadata": {
        "colab": {
          "base_uri": "https://localhost:8080/",
          "height": 387
        },
        "id": "_LJXYgJkPkpq",
        "outputId": "ce360ba0-9cd7-40e4-bfb7-c2fed5590bf5"
      },
      "outputs": [
        {
          "output_type": "execute_result",
          "data": {
            "text/plain": [
              "<matplotlib.axes._subplots.AxesSubplot at 0x7f2f6cd91990>"
            ]
          },
          "metadata": {},
          "execution_count": 18
        },
        {
          "output_type": "display_data",
          "data": {
            "text/plain": [
              "<Figure size 576x396 with 1 Axes>"
            ],
            "image/png": "[encoded data removed]"
          },
          "metadata": {}
        }
      ],
      "source": [
        "#Aqui a função plota um barplot da variável Sexo agrupada pelo risco de doença coronária\n",
        "\n",
        "sns.countplot(heart.male, hue = heart.TenYearCHD)"
      ]
    },
    {
      "cell_type": "code",
      "source": [
        "sns.countplot(heart.male)"
      ],
      "metadata": {
        "colab": {
          "base_uri": "https://localhost:8080/",
          "height": 387
        },
        "id": "2IcRqsUgvYVK",
        "outputId": "75d92d83-50e8-4510-955d-4ee98c70bce4"
      },
      "execution_count": 21,
      "outputs": [
        {
          "output_type": "execute_result",
          "data": {
            "text/plain": [
              "<matplotlib.axes._subplots.AxesSubplot at 0x7f2f6b3c7fd0>"
            ]
          },
          "metadata": {},
          "execution_count": 21
        },
        {
          "output_type": "display_data",
          "data": {
            "text/plain": [
              "<Figure size 576x396 with 1 Axes>"
            ],
            "image/png": "[encoded data removed]"
          },
          "metadata": {}
        }
      ]
    },
    {
      "cell_type": "markdown",
      "metadata": {
        "id": "v4Z8Hk0ZPkpq"
      },
      "source": [
        "**Da mesma forma que fizemos com o *scarplot* também podemos agrupar informações categóricas no countplot (ou barplot) e comparar as distribuições.**\n",
        "\n",
        "**Compare o *countplot* de sexo sem agrupamento e o com agrupamento por risco de doença e interprte eles. Qual a diferença de olhar unicamente pra uma variavel e cruzar duas informações?**\n",
        "\n",
        "    Ao cruzar as informações percebemos que mesmo os homens não sendo o sexo dominante da entrevista eles possuem maior chance de adquerir doença coronaria"
      ]
    },
    {
      "cell_type": "markdown",
      "metadata": {
        "id": "8-bIym5QPkpr"
      },
      "source": [
        "### Sua vez:\n",
        "**Plote outros gráficos de disperção cruzando variáveis numéricas, escolha agrupar com variáveis categóricas e observe quais conclusões podem ser tiradas.**\n",
        "_______________________________________________________________________________________________________________________________\n"
      ]
    },
    {
      "cell_type": "markdown",
      "metadata": {
        "id": "yOEFTySdPkpr"
      },
      "source": [
        "**Uma outra forma, agora de cruzar informações continuas e categóricas é olhar para a disperção de variáveis continuas e agrupa-lás de acordo com categorias**"
      ]
    },
    {
      "cell_type": "code",
      "execution_count": 20,
      "metadata": {
        "scrolled": true,
        "colab": {
          "base_uri": "https://localhost:8080/",
          "height": 387
        },
        "id": "kvQFdGJFPkps",
        "outputId": "4e259532-c27f-438f-84c2-b22984b5280f"
      },
      "outputs": [
        {
          "output_type": "execute_result",
          "data": {
            "text/plain": [
              "<matplotlib.axes._subplots.AxesSubplot at 0x7f2f6b47f0d0>"
            ]
          },
          "metadata": {},
          "execution_count": 20
        },
        {
          "output_type": "display_data",
          "data": {
            "text/plain": [
              "<Figure size 576x396 with 1 Axes>"
            ],
            "image/png": "[encoded data removed]"
          },
          "metadata": {}
        }
      ],
      "source": [
        "#Plot da dispersão de distribuição de massa corporal agrupada por sexo\n",
        "\n",
        "sns.boxplot(data=heart, x=\"male\", y=\"BMI\", hue=\"TenYearCHD\",)"
      ]
    },
    {
      "cell_type": "markdown",
      "metadata": {
        "id": "MX1Nhyh_Pkps"
      },
      "source": [
        "**O que podemos observar comparando a distribuição de massa corporal em pessoas de diferentes sexos em cada caso?**\n",
        "\n",
        "    mulheres que apresentão um indice de massa corporal maior apresentão uma chance um pouco maior de se obter a doença.  \n",
        "    ja nos homemns o BMI não parece ter tanta diferença."
      ]
    },
    {
      "cell_type": "markdown",
      "metadata": {
        "id": "zSMlBG9lPkps"
      },
      "source": [
        "### Sua vez:\n",
        "**Plote outros gráficos de distribuição cruzando variáveis numéricas e categóricas, escolha agrupar com variáveis de interesse e observe quais conclusões podem ser tiradas.**\n",
        "_______________________________________________________________________________________________________________________________\n"
      ]
    }
  ],
  "metadata": {
    "colab": {
      "collapsed_sections": [],
      "provenance": []
    },
    "kernelspec": {
      "display_name": "Python 3 (ipykernel)",
      "language": "python",
      "name": "python3"
    },
    "language_info": {
      "codemirror_mode": {
        "name": "ipython",
        "version": 3
      },
      "file_extension": ".py",
      "mimetype": "text/x-python",
      "name": "python",
      "nbconvert_exporter": "python",
      "pygments_lexer": "ipython3",
      "version": "3.10.5"
    }
  },
  "nbformat": 4,
  "nbformat_minor": 0
}