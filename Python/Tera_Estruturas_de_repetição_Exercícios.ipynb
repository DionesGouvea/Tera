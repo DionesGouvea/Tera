{
  "nbformat": 4,
  "nbformat_minor": 0,
  "metadata": {
    "colab": {
      "provenance": [],
      "collapsed_sections": []
    },
    "kernelspec": {
      "name": "python3",
      "display_name": "Python 3"
    },
    "language_info": {
      "name": "python"
    }
  },
  "cells": [
    {
      "cell_type": "markdown",
      "metadata": {
        "id": "ejAscLZ0U5DO"
      },
      "source": [
        "# Estruturas de repetição - Exercícios"
      ]
    },
    {
      "cell_type": "markdown",
      "metadata": {
        "id": "vj0gIq6vYBTl"
      },
      "source": [
        "Crie um código que imprima todos os nomes da lista abaixo"
      ]
    },
    {
      "cell_type": "code",
      "metadata": {
        "id": "koim5bBNYCFJ"
      },
      "source": [
        "nomes = ['Felipe','Marcela','Heloisa','Bruno','Vitoria','Barbara','Andreza','Bernardo']"
      ],
      "execution_count": null,
      "outputs": []
    },
    {
      "cell_type": "code",
      "metadata": {
        "id": "7Ryz17vvYCk0",
        "outputId": "531127ab-e92b-42e9-9264-1e84adca9315",
        "colab": {
          "base_uri": "https://localhost:8080/"
        }
      },
      "source": [
        "for nome in nomes:\n",
        "  print(nome)\n",
        "  "
      ],
      "execution_count": null,
      "outputs": [
        {
          "output_type": "stream",
          "name": "stdout",
          "text": [
            "Felipe\n",
            "Marcela\n",
            "Heloisa\n",
            "Bruno\n",
            "Vitoria\n",
            "Barbara\n",
            "Andreza\n",
            "Bernardo\n"
          ]
        }
      ]
    },
    {
      "cell_type": "code",
      "metadata": {
        "id": "QqwySGEPYCb_"
      },
      "source": [
        "#@title  { display-mode: \"form\" }\n",
        "for nome in nomes:\n",
        "  print(nome)"
      ],
      "execution_count": null,
      "outputs": []
    },
    {
      "cell_type": "markdown",
      "metadata": {
        "id": "F1-K6TaeUm03"
      },
      "source": [
        "## Da lista de números abaixo, crie uma estrutura de repetição usando `for` encadeada com uma estrutura condicional que imprima:\n",
        "\n",
        "* `É múltiplo de 3` se o número for múltiplo de 3\n",
        "* `É múltiplo de 5` se o número for múltiplo de 5\n",
        "* `É outro número` caso contrario"
      ]
    },
    {
      "cell_type": "code",
      "metadata": {
        "id": "xS6QtEHxUd1U"
      },
      "source": [
        "numeros_ex1 = [2,3,5,7,8,10,12,14,15,17]"
      ],
      "execution_count": null,
      "outputs": []
    },
    {
      "cell_type": "code",
      "metadata": {
        "id": "LhXUzK_CU30E",
        "outputId": "7ec8a453-801e-4662-92f0-ae7878a50051",
        "colab": {
          "base_uri": "https://localhost:8080/"
        }
      },
      "source": [
        "for numero in numeros_ex1:\n",
        "  if numero % 3 == 0:\n",
        "    print('{} é multiplo de 3 '.format(numero))\n",
        "  elif numero % 5 == 0:\n",
        "    print('{} é multiplo de 5'.format(numero))\n",
        "  print('{} não é multiplo de 3 ou de 5 ou de ambos'.format(numero))"
      ],
      "execution_count": null,
      "outputs": [
        {
          "output_type": "stream",
          "name": "stdout",
          "text": [
            "2 não é multiplo de 3 ou de 5 ou de ambos\n",
            "3 é multiplo de 3 \n",
            "3 não é multiplo de 3 ou de 5 ou de ambos\n",
            "5 é multiplo de 5\n",
            "5 não é multiplo de 3 ou de 5 ou de ambos\n",
            "7 não é multiplo de 3 ou de 5 ou de ambos\n",
            "8 não é multiplo de 3 ou de 5 ou de ambos\n",
            "10 é multiplo de 5\n",
            "10 não é multiplo de 3 ou de 5 ou de ambos\n",
            "12 é multiplo de 3 \n",
            "12 não é multiplo de 3 ou de 5 ou de ambos\n",
            "14 não é multiplo de 3 ou de 5 ou de ambos\n",
            "15 é multiplo de 3 \n",
            "15 não é multiplo de 3 ou de 5 ou de ambos\n",
            "17 não é multiplo de 3 ou de 5 ou de ambos\n"
          ]
        }
      ]
    },
    {
      "cell_type": "code",
      "metadata": {
        "id": "XsrbY7W5U95y"
      },
      "source": [
        "#@title  { display-mode: \"form\" }\n",
        "for i in numeros_ex1:\n",
        "  if i % 3 == 0:\n",
        "    print(\"É múltiplo de 3\")\n",
        "  elif i % 5 == 0:\n",
        "    print(\"É múltiplo de 5\")\n",
        "  else:\n",
        "    print('É outro número')"
      ],
      "execution_count": null,
      "outputs": []
    },
    {
      "cell_type": "markdown",
      "metadata": {
        "id": "KPfAm-wTVxkR"
      },
      "source": [
        "## Da lista de números abaixo, crie uma nova lista que contenha apenas os números múltiplos de 7"
      ]
    },
    {
      "cell_type": "code",
      "metadata": {
        "id": "sJie8phwVzit"
      },
      "source": [
        "numeros_ex2 = [4,5,7,8,10,14,17,21,31,45,49,70]"
      ],
      "execution_count": null,
      "outputs": []
    },
    {
      "cell_type": "code",
      "metadata": {
        "id": "Ax2i6zJTV3jp",
        "outputId": "64eb2a23-a3d0-4b9a-c697-6760590f57c7",
        "colab": {
          "base_uri": "https://localhost:8080/"
        }
      },
      "source": [
        "lista = []\n",
        "for numero in numeros_ex2:\n",
        "  if numero % 7 == 0:\n",
        "    lista.append(numero)\n",
        "lista "
      ],
      "execution_count": null,
      "outputs": [
        {
          "output_type": "execute_result",
          "data": {
            "text/plain": [
              "[7, 14, 21, 49, 70]"
            ]
          },
          "metadata": {},
          "execution_count": 10
        }
      ]
    },
    {
      "cell_type": "code",
      "metadata": {
        "id": "pA49PD4OV4T_"
      },
      "source": [
        "#@title  { display-mode: \"form\" }\n",
        "nova_lista = []\n",
        "\n",
        "for i in numeros_ex2:\n",
        "  if i % 7 == 0:\n",
        "    nova_lista.append(i)\n",
        "\n",
        "nova_lista"
      ],
      "execution_count": null,
      "outputs": []
    },
    {
      "cell_type": "code",
      "metadata": {
        "id": "5xm5mmU1Wl2E"
      },
      "source": [
        "#@title  { display-mode: \"form\" }\n",
        "\n",
        "#Com list comprehension\n",
        "[i for i in numeros_ex2 if i % 7==0]"
      ],
      "execution_count": null,
      "outputs": []
    },
    {
      "cell_type": "markdown",
      "metadata": {
        "id": "5Jp9Uv2yYIq6"
      },
      "source": [
        "### **for** loop com **f-string**. Pegue a lista de nomes abaixo e com um `for` loop, imprima: \"Olá, **nome**!\". Substituindo o nome por cada elemento da lista"
      ]
    },
    {
      "cell_type": "code",
      "metadata": {
        "id": "9MsnpNwyYwmH"
      },
      "source": [
        "#Rode essa célula\n",
        "nomes = ['Sócrates', 'Pitágoras', 'Aristóteles', 'Platão', 'Parmênides']"
      ],
      "execution_count": null,
      "outputs": []
    },
    {
      "cell_type": "code",
      "metadata": {
        "id": "5Q1124WBZQhW",
        "outputId": "8944b531-6d29-4ffb-dc34-0a90c54d0121",
        "colab": {
          "base_uri": "https://localhost:8080/"
        }
      },
      "source": [
        "for nome in nomes:\n",
        "  print(f'Ola {nome}!')"
      ],
      "execution_count": null,
      "outputs": [
        {
          "output_type": "stream",
          "name": "stdout",
          "text": [
            "Ola Sócrates!\n",
            "Ola Pitágoras!\n",
            "Ola Aristóteles!\n",
            "Ola Platão!\n",
            "Ola Parmênides!\n"
          ]
        }
      ]
    },
    {
      "cell_type": "code",
      "metadata": {
        "id": "Csa0oXlHZRXR"
      },
      "source": [
        "#@title  { display-mode: \"form\" }\n",
        "\n",
        "for nome in nomes:\n",
        "  print(f\"Olá, {nome}!\")"
      ],
      "execution_count": null,
      "outputs": []
    },
    {
      "cell_type": "code",
      "metadata": {
        "id": "KcTFqeWcZaoE"
      },
      "source": [],
      "execution_count": null,
      "outputs": []
    },
    {
      "cell_type": "markdown",
      "metadata": {
        "id": "YhVU7x_BZxMU"
      },
      "source": [
        "### (Desafio) Dado a lista `numeros` abaixo. Faça um `for` loop que conte quantos são os números pares e quantos são os números ímpares"
      ]
    },
    {
      "cell_type": "code",
      "metadata": {
        "id": "Nw2WO3-jaVFS"
      },
      "source": [
        "numeros = [1, 2, 3, 4, 5, 6, 7, 8, 9]\n",
        "numeros_impares = 0\n",
        "numeros_pares = 0"
      ],
      "execution_count": null,
      "outputs": []
    },
    {
      "cell_type": "code",
      "metadata": {
        "id": "w4GpE3omaYZR",
        "outputId": "e5edbdf5-17ee-479b-c58b-f7ab627cebab",
        "colab": {
          "base_uri": "https://localhost:8080/"
        }
      },
      "source": [
        "for count in numeros:\n",
        "  if count % 2 == 0:\n",
        "    numeros_pares += 1\n",
        "  else:\n",
        "    numeros_impares +=1\n",
        "\n",
        "print(f'numeros pares:{numeros_pares} e numeros impares{numeros_impares}')\n"
      ],
      "execution_count": null,
      "outputs": [
        {
          "output_type": "stream",
          "name": "stdout",
          "text": [
            "numeros pares:4 e numeros impares5\n"
          ]
        }
      ]
    },
    {
      "cell_type": "code",
      "metadata": {
        "id": "e-ND4OrqZxna",
        "outputId": "9435f173-b587-4495-ed7e-9d5614c14dc0",
        "colab": {
          "base_uri": "https://localhost:8080/"
        }
      },
      "source": [
        "#@title  { display-mode: \"form\" }\n",
        "for x in numeros:\n",
        "  if x % 2 == 0:\n",
        "    numeros_pares = numeros_pares + 1\n",
        "  else:\n",
        "    numeros_impares = numeros_impares + 1\n",
        "print(f\"Quantidade de numeros pares: {numeros_pares}\")\n",
        "print(f\"Quantidade de numeros impares: {numeros_impares}\")\n"
      ],
      "execution_count": null,
      "outputs": [
        {
          "output_type": "stream",
          "name": "stdout",
          "text": [
            "Quantidade de numeros pares: 4\n",
            "Quantidade de numeros impares: 5\n"
          ]
        }
      ]
    },
    {
      "cell_type": "code",
      "metadata": {
        "id": "NO-tIo9LZ3lG"
      },
      "source": [],
      "execution_count": null,
      "outputs": []
    }
  ]
}