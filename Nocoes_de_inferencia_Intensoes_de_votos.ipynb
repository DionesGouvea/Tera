{
  "nbformat": 4,
  "nbformat_minor": 0,
  "metadata": {
    "colab": {
      "provenance": [],
      "collapsed_sections": [],
      "authorship_tag": "ABX9TyMVVoHDHOLiu14gIpbBm43w"
    },
    "kernelspec": {
      "name": "python3",
      "display_name": "Python 3"
    },
    "language_info": {
      "name": "python"
    }
  },
  "cells": [
    {
      "cell_type": "markdown",
      "source": [
        "# Determinar a intenção de votos de uma populaçao sem olhar para a população inteira\n",
        "\n",
        "Com base nos dados do TSE o brasil conta com 156 Milhoes de eleitores para o ano de 2022, realizar uma pesquisa eleitoral com todos os eleitores é algo inviavel por isso utilizamos apenas uma amostra da população. \n"
      ],
      "metadata": {
        "id": "_xzB1r_J0y-c"
      }
    },
    {
      "cell_type": "markdown",
      "source": [
        "Primeiro iremos simular toda nossa população, alguns candidatos e suas respectivas % de votos"
      ],
      "metadata": {
        "id": "7Vj5qov_6p4c"
      }
    },
    {
      "cell_type": "code",
      "execution_count": 18,
      "metadata": {
        "id": "pmDIYVkx0uuJ"
      },
      "outputs": [],
      "source": [
        "#Vamos armazenar o numero de eleitores em uma variavel \n",
        "eleitores = 156_000_000\n",
        "\n",
        "#porcentagem de cada candidato \n",
        "porc = [0.50,0.35,0.10,0.05]\n",
        "\n",
        "#teremos 2 candidatos 'Bernivalda', 'Leudismar' alem de 'Brancos' e 'Nulos'\n",
        "#multiplicando a população pela porcentagem para obter a quantidade exata de numeros de eleitores para \n",
        "#cada candidato \n",
        "berni = int(eleitores*porc[0])\n",
        "leudis = int(eleitores*porc[1])\n",
        "brancos = int(eleitores*porc[2])\n",
        "nulos = int(eleitores*porc[3])\n",
        "\n",
        "#criando a lista que ira armazenar todos os 156 milhoes de votos com suas repectivas % \n",
        "popula =['Bernivalda']*berni + ['Leudismar']*leudis + ['Brancos']*brancos +['Nulos']*nulos\n",
        "\n"
      ]
    },
    {
      "cell_type": "markdown",
      "source": [
        "População criada agora vamos encontrar uma amostra que tenha no minimo 95% de confiança com uma margem de erro de 2%"
      ],
      "metadata": {
        "id": "tPULpFg89eiA"
      }
    },
    {
      "cell_type": "code",
      "source": [
        "from re import X\n",
        "import numpy as np\n",
        "import random \n",
        "\n",
        "Repeticoes = 1000 # numero de vezes que iremos pegar uma amostra da nossa população\n",
        "x = 3000 #tamanho da população \n",
        "resultado = [] #para cada amostra iremos armazenar taxa de confiança aqui \n",
        "\n",
        "for i in range(Repeticoes):\n",
        "\n",
        "  amostra = random.sample(popula, k= x) #estou usando a função random para pegar uma amostra \n",
        "  #abaixo irei dividir a quantidade de votos de cada quantidade que obtive na amostra pelo\n",
        "  # tamanho da amostra para obter a proporcao de cada candidato\n",
        "  a = amostra.count('Bernivalda')/x\n",
        "  b = amostra.count('Leudismar')/x\n",
        "  c = amostra.count('Brancos')/x\n",
        "  d = amostra.count('Nulos')/x\n",
        "\n",
        "  #calculo da taxa de acerto \n",
        "  estimativas = [a,b,c,d] # armazeno a proporcão em uma lista\n",
        "  #subtraio a proporcoes de votos dessa amostra com a  proporção de votos de toda população \n",
        "  #utilizo np.array para poder fazer essa operação  \n",
        "  erros = np.array(estimativas) - np.array(porc) \n",
        "  r = np.all(abs(erros)<0.02) #se todas as proporcoes de votos forem menores que 2% retorna true \n",
        "  resultado.append(r) ##armazena o resultado de true e false na lista resultado\n",
        "\n",
        "#por fim calculo a media que nada mais é que minha taxa de confiança\n",
        "confianca =  np.array(resultado).mean()\n",
        "\n",
        "print('Tamanho da População:', eleitores )\n",
        "print('Tamanho da Amostra:', x )\n",
        "print('Margem de Erro Estabelecida: 2%')\n",
        "print('Confiança na Estatística:', confianca)"
      ],
      "metadata": {
        "colab": {
          "base_uri": "https://localhost:8080/"
        },
        "id": "A0t9_-aj-ZfD",
        "outputId": "6f40e72b-5936-4c8e-eed8-355fa088adc8"
      },
      "execution_count": 32,
      "outputs": [
        {
          "output_type": "stream",
          "name": "stdout",
          "text": [
            "Tamanho da População: 156000000\n",
            "Tamanho da Amostra: 3000\n",
            "Margem de Erro Estabelecida: 2%\n",
            "Confiança na Estatística: 0.959\n"
          ]
        }
      ]
    },
    {
      "cell_type": "code",
      "source": [],
      "metadata": {
        "id": "BHbil3Vv9QFm"
      },
      "execution_count": null,
      "outputs": []
    }
  ]
}