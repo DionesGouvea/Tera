{
  "nbformat": 4,
  "nbformat_minor": 0,
  "metadata": {
    "colab": {
      "provenance": []
    },
    "kernelspec": {
      "name": "python3",
      "display_name": "Python 3"
    },
    "language_info": {
      "name": "python"
    }
  },
  "cells": [
    {
      "cell_type": "markdown",
      "metadata": {
        "id": "TB_-4RLajcD0"
      },
      "source": [
        "# Funções - Exercícios"
      ]
    },
    {
      "cell_type": "markdown",
      "metadata": {
        "id": "6CIshkdykSCO"
      },
      "source": [
        "### Crie uma função de nome `pedir_agua` e que apenas imprima \"Estou com sede!\"\n",
        "\n",
        "Depois, chame está função"
      ]
    },
    {
      "cell_type": "code",
      "metadata": {
        "id": "fNwBo5lSjX8I"
      },
      "source": [
        "def pedir_agua():\n",
        "  print('Estou com Sede!')"
      ],
      "execution_count": null,
      "outputs": []
    },
    {
      "cell_type": "code",
      "metadata": {
        "id": "KFB_Yw_JkiFw"
      },
      "source": [
        "#@title  { display-mode: \"form\" }\n",
        "def pedir_agua():\n",
        "  print(\"Estou com sede\")\n",
        "\n",
        "pedir_agua()"
      ],
      "execution_count": null,
      "outputs": []
    },
    {
      "cell_type": "markdown",
      "metadata": {
        "id": "ZgUKyWAqk0Xy"
      },
      "source": [
        "### Crie uma função que multiplique três números\n",
        "Depois, chame essa função com os parâmetros: 10, 5, 12"
      ]
    },
    {
      "cell_type": "code",
      "metadata": {
        "id": "LTFQb6Rok61B",
        "outputId": "24a83d42-8c4c-458d-8db9-966ae6fbdfe8",
        "colab": {
          "base_uri": "https://localhost:8080/"
        }
      },
      "source": [
        "def multiplicar(n1,n2,n3):\n",
        "  return n1*n2*n3\n",
        "\n",
        "multiplicar(10,5,12)"
      ],
      "execution_count": null,
      "outputs": [
        {
          "output_type": "execute_result",
          "data": {
            "text/plain": [
              "600"
            ]
          },
          "metadata": {},
          "execution_count": 2
        }
      ]
    },
    {
      "cell_type": "code",
      "metadata": {
        "id": "oSUDysV8lScT"
      },
      "source": [
        "#@title  { display-mode: \"form\" }\n",
        "def multiplicar_numeros(a,b,c):\n",
        "  return a*b*c\n",
        "\n",
        "multiplicar_numeros(10, 5, 12)"
      ],
      "execution_count": null,
      "outputs": []
    },
    {
      "cell_type": "markdown",
      "metadata": {
        "id": "7z_areP2lSE1"
      },
      "source": [
        "### Crie uma função que receba uma temperatura em Celsius e retorne em Fahrenheit\n",
        "\n",
        "Converta as seguintes temperaturas 0°, 21°, 38°, 50°\n",
        "\n",
        "Dica: Para converter de Celsius para Fahrenheit, multiplique por 1.8 e some 32"
      ]
    },
    {
      "cell_type": "code",
      "metadata": {
        "id": "IxtPprj-l8rA",
        "outputId": "bd8e8d57-c77e-4408-d0d6-2294256abcaa",
        "colab": {
          "base_uri": "https://localhost:8080/"
        }
      },
      "source": [
        "def converter_temperatura(x):\n",
        "  return (x*1.8) + 32\n",
        "\n",
        "print(converter_temperatura(0))\n",
        "print(converter_temperatura(21))\n",
        "print(converter_temperatura(38))\n",
        "print(converter_temperatura(50))"
      ],
      "execution_count": null,
      "outputs": [
        {
          "output_type": "stream",
          "name": "stdout",
          "text": [
            "32.0\n",
            "69.80000000000001\n",
            "100.4\n",
            "122.0\n"
          ]
        }
      ]
    },
    {
      "cell_type": "code",
      "metadata": {
        "id": "eSIWeyjhl9dE",
        "outputId": "f39b09d9-8812-4836-f15a-4019665dc596",
        "colab": {
          "base_uri": "https://localhost:8080/"
        }
      },
      "source": [
        "#@title  { display-mode: \"form\" }\n",
        "def converter_c_para_f(celsius):\n",
        "  fahrenheit = (celsius * 1.8 ) + 32\n",
        "  return fahrenheit\n",
        "\n",
        "print(converter_c_para_f(0))\n",
        "print(converter_c_para_f(21))\n",
        "print(converter_c_para_f(38))\n",
        "print(converter_c_para_f(50))"
      ],
      "execution_count": null,
      "outputs": [
        {
          "output_type": "stream",
          "name": "stdout",
          "text": [
            "32.0\n",
            "69.80000000000001\n",
            "100.4\n",
            "122.0\n"
          ]
        }
      ]
    },
    {
      "cell_type": "markdown",
      "metadata": {
        "id": "zPq8jF68fLJ0"
      },
      "source": [
        "### Crie uma função com nome `converter_valor_absoluto` que recebe um número e retorna o valor absoluto deste número, ou seja:\n",
        "- se receber o número 8 retornará 8;\n",
        "- se receber o número -8, retornará 8 também.\n",
        "\n",
        "Teste  com os número `5` e `-5`"
      ]
    },
    {
      "cell_type": "code",
      "metadata": {
        "id": "YIb2y-p5fLbf",
        "outputId": "1bb7239e-08c4-4b4d-97d1-3f096af62053",
        "colab": {
          "base_uri": "https://localhost:8080/"
        }
      },
      "source": [
        "def converter_valor_absoluto(x):  \n",
        "  return (lambda x: -x if(x<0) else x)(x)\n",
        "\n",
        "print(converter_valor_absoluto(5))\n",
        "print(converter_valor_absoluto(-5))"
      ],
      "execution_count": null,
      "outputs": [
        {
          "output_type": "stream",
          "name": "stdout",
          "text": [
            "5\n",
            "5\n"
          ]
        }
      ]
    },
    {
      "cell_type": "code",
      "source": [
        "converter_valor_absoluto = lambda x: -x if(x<0) else x\n",
        "print(converter_valor_absoluto(5))\n",
        "print(converter_valor_absoluto(-5))"
      ],
      "metadata": {
        "id": "PiFdfR4cQ6Ns",
        "outputId": "2398fd7e-d382-4ed9-de2b-767c4af8ca12",
        "colab": {
          "base_uri": "https://localhost:8080/"
        }
      },
      "execution_count": null,
      "outputs": [
        {
          "output_type": "stream",
          "name": "stdout",
          "text": [
            "5\n",
            "5\n"
          ]
        }
      ]
    },
    {
      "cell_type": "code",
      "metadata": {
        "id": "YGUtJ-_BfLwR"
      },
      "source": [
        "#@title  { display-mode: \"form\" }\n",
        "\n",
        "def converter_valor_absoluto(num):\n",
        "  if num >= 0:\n",
        "    return num\n",
        "  else:\n",
        "    return -num\n",
        "\n",
        "print(converter_valor_absoluto(5))\n",
        "print(converter_valor_absoluto(-5))"
      ],
      "execution_count": null,
      "outputs": []
    },
    {
      "cell_type": "code",
      "metadata": {
        "id": "Idql7c1BftIT"
      },
      "source": [],
      "execution_count": null,
      "outputs": []
    }
  ]
}