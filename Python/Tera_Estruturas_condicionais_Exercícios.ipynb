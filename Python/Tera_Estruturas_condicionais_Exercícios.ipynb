{
  "nbformat": 4,
  "nbformat_minor": 0,
  "metadata": {
    "colab": {
      "provenance": [],
      "collapsed_sections": []
    },
    "kernelspec": {
      "name": "python3",
      "display_name": "Python 3"
    },
    "language_info": {
      "name": "python"
    }
  },
  "cells": [
    {
      "cell_type": "markdown",
      "metadata": {
        "id": "lCl6XzOTX5hd"
      },
      "source": [
        "# Estruturas condicionais - Exercícios"
      ]
    },
    {
      "cell_type": "markdown",
      "metadata": {
        "id": "awYL3XIw7jH0"
      },
      "source": [
        "### Crie uma estrutura condicional que receba como entrada um número e que responda se este número é múltiplo de 3"
      ]
    },
    {
      "cell_type": "code",
      "metadata": {
        "id": "wZPT_WNn7eGH"
      },
      "source": [
        "#Rode esse código primeiro\n",
        "numero = 11"
      ],
      "execution_count": null,
      "outputs": []
    },
    {
      "cell_type": "code",
      "metadata": {
        "id": "ues0zo2d8DZY",
        "outputId": "0cbe2275-b58a-4e92-d01e-50f24f6b4f72",
        "colab": {
          "base_uri": "https://localhost:8080/"
        }
      },
      "source": [
        "#Escreva o seu código aqui\n",
        "if numero %3 == 0:\n",
        "  print('é multiplo de 3')\n",
        "else:\n",
        "  print('não é multiplo de 3')"
      ],
      "execution_count": null,
      "outputs": [
        {
          "output_type": "stream",
          "name": "stdout",
          "text": [
            "não é multiplo de 3\n"
          ]
        }
      ]
    },
    {
      "cell_type": "code",
      "metadata": {
        "id": "gcIlo-eL8Lkn"
      },
      "source": [
        "#@title  { display-mode: \"form\" }\n",
        "if numero%3 == 0:\n",
        "  print('é múltplo de 3')\n",
        "else:\n",
        "  print('não é múltiplo de 3')"
      ],
      "execution_count": null,
      "outputs": []
    },
    {
      "cell_type": "markdown",
      "metadata": {
        "id": "uFSysNly7ikC"
      },
      "source": [
        "### Crie uma estrutura condicional que receba como entrada um horário (0-24h) e que retorne:\n",
        "*   \"Bom dia\", se o horário estiver entre 6h-12h\n",
        "*   \"Boa tarde\", se o horário estiver entre 13h-18h\n",
        "*   \"Boa noite\", se o horário estiver entre 19h-24h\n",
        "*   \"Ainda é de madrugada\", caso contrário\n",
        "\n",
        "**dica:** para verificar se um número está entre outros dois você pode usar o seguinte formato `if 10 <= numero <= 20`. Aqui estamos verificando se a variável número está entre 10 e 10\n"
      ]
    },
    {
      "cell_type": "code",
      "metadata": {
        "id": "S3YLk84R9HXz"
      },
      "source": [
        "#Rode esse código primeiro\n",
        "hora = 10"
      ],
      "execution_count": null,
      "outputs": []
    },
    {
      "cell_type": "code",
      "metadata": {
        "id": "7TNgH97b9Mfu",
        "outputId": "e31c9506-2637-4b4a-a700-1b75aaf9242e",
        "colab": {
          "base_uri": "https://localhost:8080/"
        }
      },
      "source": [
        "# Escreva seu código aqui \n",
        "if 6 <= hora <= 12:\n",
        "  print('bom dia')\n",
        "elif 13 <= hora <=18:\n",
        "  print('boa tarde')\n",
        "elif 19 <= hora <= 24:\n",
        "  print('boa noite')\n",
        "else:\n",
        "  print('ainda é madrugada')"
      ],
      "execution_count": null,
      "outputs": [
        {
          "output_type": "stream",
          "name": "stdout",
          "text": [
            "bom dia\n"
          ]
        }
      ]
    },
    {
      "cell_type": "code",
      "metadata": {
        "id": "9BNb988s9i03"
      },
      "source": [
        "#@title  { display-mode: \"form\" }\n",
        "if 6 <= hora <= 12:\n",
        "  print(\"Bom dia\")\n",
        "elif 13 <= hora <= 18:\n",
        "  print(\"Boa tarde\")\n",
        "elif 19 <= hora <= 24:\n",
        "  print(\"Boa noite\")\n",
        "else:\n",
        "  print(\"Ainda é de madrugada\")"
      ],
      "execution_count": null,
      "outputs": []
    },
    {
      "cell_type": "markdown",
      "metadata": {
        "id": "MaSbC1vRAhxj"
      },
      "source": [
        "### (Desafio). Crie uma estrutura condicional que receba como entrada um ano e que retorne se esse ano é bissexto ou não\n",
        "\n",
        "**Regras**\n",
        "1. Todo ano divisível por 4 é bissexto\n",
        "2. Todo ano divisível por 100 não é ano bissexto\n",
        "3. Mas se o ano for divisível por 400 é ano bissexto\n"
      ]
    },
    {
      "cell_type": "code",
      "metadata": {
        "id": "F11MuihqA21Z"
      },
      "source": [
        "#Rode esse código primeiro\n",
        "ano = 2300"
      ],
      "execution_count": null,
      "outputs": []
    },
    {
      "cell_type": "code",
      "metadata": {
        "id": "zE84qHt3BA-1",
        "outputId": "91915fce-d319-4f61-eccc-8ca2a12e2773",
        "colab": {
          "base_uri": "https://localhost:8080/"
        }
      },
      "source": [
        "# Escreva seu código aqui \n",
        "if (ano % 400 == 0):\n",
        "  print('é Bissexto 1')\n",
        "elif(ano %4 == 0 and (ano % 100 != 0)):\n",
        "  print('é bissexto')\n",
        "else:\n",
        "  print('não é bissexto')"
      ],
      "execution_count": null,
      "outputs": [
        {
          "output_type": "stream",
          "name": "stdout",
          "text": [
            "não é bissexto\n"
          ]
        }
      ]
    },
    {
      "cell_type": "code",
      "metadata": {
        "id": "SrUcMN9bBAnZ",
        "outputId": "57e3bd40-6d81-4de3-bcdc-a04662ec5527",
        "colab": {
          "base_uri": "https://localhost:8080/"
        }
      },
      "source": [
        "#@title  { display-mode: \"form\" }\n",
        "if (ano % 4) == 0:\n",
        "   if (ano % 100) == 0:\n",
        "       if (ano % 400) == 0:\n",
        "           print(\"é ano bissexto\")\n",
        "       else:\n",
        "           print(\"não é ano bissexto\")\n",
        "   else:\n",
        "       print(\"é ano bissexto\")\n",
        "else:\n",
        "   print(\"não é ano bissexto\")"
      ],
      "execution_count": null,
      "outputs": [
        {
          "output_type": "stream",
          "name": "stdout",
          "text": [
            "não é ano bissexto\n"
          ]
        }
      ]
    },
    {
      "cell_type": "code",
      "metadata": {
        "id": "CdRQQGWqBc7a"
      },
      "source": [],
      "execution_count": null,
      "outputs": []
    },
    {
      "cell_type": "markdown",
      "metadata": {
        "id": "rXWNaFA-RjAS"
      },
      "source": [
        "### (Debugging) Encontre o erro e solucione o código abaixo."
      ]
    },
    {
      "cell_type": "code",
      "metadata": {
        "id": "IJZ3HZ_pRl_d"
      },
      "source": [
        "nota = 8\n",
        "\n",
        "if nota > 9:\n",
        "  print(\"Parabéns!\")"
      ],
      "execution_count": null,
      "outputs": []
    },
    {
      "cell_type": "code",
      "metadata": {
        "id": "mDl89i7yRyui"
      },
      "source": [],
      "execution_count": null,
      "outputs": []
    }
  ]
}